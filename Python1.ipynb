{
 "metadata": {
  "name": "",
  "signature": "sha256:fc50b577f66da8ebe69ee1edbdf8f31e7c867325d1ccedd87b0f4cf1ab299ad1"
 },
 "nbformat": 3,
 "nbformat_minor": 0,
 "worksheets": [
  {
   "cells": [
    {
     "cell_type": "heading",
     "level": 1,
     "metadata": {},
     "source": [
      "FRI Introduction to Python 1"
     ]
    },
    {
     "cell_type": "markdown",
     "metadata": {},
     "source": [
      "Python is a general purpose computer language that is very useful for many things, from data analysis and plotting to shell scripting and file management. There\u2019s almost nothing it can\u2019t be made to do! It\u2019s also relatively easy to learn and makes a great first language if you aren\u2019t a CS major. If you do any work in the future in a technical field, the odds are that python will be useful for you.\n",
      "\n",
      "The goals of this first python lab are to demonstrate the different types of variables available to you, to explore some basic variable manipulation, to see how to import packages and one way to read in a file, and to make a first plot.\n",
      "\n",
      "In general, you can write entire computer programs in python as files that you call from the command line, but this IPython Notebook environment is useful for simple data manipulation projects and prototyping you larger programs.  To use an IPython Notebook, enter the code you want to run into a cell, then evalulate that cell by pressing Shift+Return.\n",
      "\n",
      "IPython Notebooks also importantly allow you to use the \"Tab\" button to auto-complete the names of functions and variables to speed up typing and reduce mistakes.  You can also access a function's help documentation in IPython by pressing Shift+Tab after typing the name of the function."
     ]
    },
    {
     "cell_type": "heading",
     "level": 3,
     "metadata": {},
     "source": [
      "Strings"
     ]
    },
    {
     "cell_type": "code",
     "collapsed": false,
     "input": [
      "#Every good programmer should first learn how to greet the world.  In python, lines that start with a \"#\" are comments and are\n",
      "#not run as code.  It is good practice to include plenty of comments to explain what your code is designed to do for readability.\n",
      "\n",
      "#To print something to the screen, use the print command\n",
      "print 'Hello world!'"
     ],
     "language": "python",
     "metadata": {},
     "outputs": [
      {
       "output_type": "stream",
       "stream": "stdout",
       "text": [
        "Hello world!\n"
       ]
      }
     ],
     "prompt_number": 1
    },
    {
     "cell_type": "code",
     "collapsed": false,
     "input": [
      "#Now we're talking.\n",
      "\n",
      "#When programming, there are different types of variables that you can use.  A chunk of text is called a string.\n",
      "print type('Hello world!')"
     ],
     "language": "python",
     "metadata": {},
     "outputs": [
      {
       "output_type": "stream",
       "stream": "stdout",
       "text": [
        "<type 'str'>\n"
       ]
      }
     ],
     "prompt_number": 2
    },
    {
     "cell_type": "code",
     "collapsed": false,
     "input": [
      "#Strings can also be defined with double quotation marks, which is useful if there's an apostrophe in the text.\n",
      "print \"It's my birthday.\""
     ],
     "language": "python",
     "metadata": {},
     "outputs": [
      {
       "output_type": "stream",
       "stream": "stdout",
       "text": [
        "It's my birthday.\n"
       ]
      }
     ],
     "prompt_number": 3
    },
    {
     "cell_type": "code",
     "collapsed": false,
     "input": [
      "#While print commands are needed in standalone python code, you can also view the contents of a python object in an IPython\n",
      "#Notebook without typing \"print.\"\n",
      "'Hello world!'"
     ],
     "language": "python",
     "metadata": {},
     "outputs": [
      {
       "metadata": {},
       "output_type": "pyout",
       "prompt_number": 4,
       "text": [
        "'Hello world!'"
       ]
      }
     ],
     "prompt_number": 4
    },
    {
     "cell_type": "code",
     "collapsed": false,
     "input": [
      "#Expressions like this can also be stored in a named variable to be called later.  Here's an example.\n",
      "greeting = 'Hello world!'\n",
      "print greeting"
     ],
     "language": "python",
     "metadata": {},
     "outputs": [
      {
       "output_type": "stream",
       "stream": "stdout",
       "text": [
        "Hello world!\n"
       ]
      }
     ],
     "prompt_number": 5
    },
    {
     "cell_type": "code",
     "collapsed": false,
     "input": [
      "#Hello, indeed.\n",
      "\n",
      "#Variables are great because they can be referenced again and again and can be shorthand for a more complicated expression.\n",
      "#Also, as the word \"variable\" suggests, they can be set to hold many different values.\n",
      "print greeting\n",
      "greeting = 'Goodbye world.'\n",
      "print greeting"
     ],
     "language": "python",
     "metadata": {},
     "outputs": [
      {
       "output_type": "stream",
       "stream": "stdout",
       "text": [
        "Hello world!\n",
        "Goodbye world.\n"
       ]
      }
     ],
     "prompt_number": 6
    },
    {
     "cell_type": "code",
     "collapsed": false,
     "input": [
      "#A string is actually treated much like a list of individual characters.  This is very useful.\n",
      "greeting = 'Hello world!'\n",
      "\n",
      "#How long is the list of characters?\n",
      "print len(greeting) #len() gives the length of a varible. To see what a function does, type it (e.g. \"len\") and hit Shift+Tab"
     ],
     "language": "python",
     "metadata": {},
     "outputs": [
      {
       "output_type": "stream",
       "stream": "stdout",
       "text": [
        "12\n"
       ]
      }
     ],
     "prompt_number": 7
    },
    {
     "cell_type": "code",
     "collapsed": false,
     "input": [
      "#Of these 12 characters, we can view individual ones by calling their indices.\n",
      "#In python counting starts with 0.\n",
      "#Print the first character of greeting.\n",
      "print greeting[0]"
     ],
     "language": "python",
     "metadata": {},
     "outputs": [
      {
       "output_type": "stream",
       "stream": "stdout",
       "text": [
        "H\n"
       ]
      }
     ],
     "prompt_number": 8
    },
    {
     "cell_type": "code",
     "collapsed": false,
     "input": [
      "#We may wish to see the last letter of a string.  Since counting starts at 0, the last character is at 11.\n",
      "print greeting[len(greeting)-1]"
     ],
     "language": "python",
     "metadata": {},
     "outputs": [
      {
       "output_type": "stream",
       "stream": "stdout",
       "text": [
        "!\n"
       ]
      }
     ],
     "prompt_number": 9
    },
    {
     "cell_type": "code",
     "collapsed": false,
     "input": [
      "#But that's a mounthful.  Indexing can also run backwards to count from the end of an object.\n",
      "print greeting[-1]"
     ],
     "language": "python",
     "metadata": {},
     "outputs": [
      {
       "output_type": "stream",
       "stream": "stdout",
       "text": [
        "!\n"
       ]
      }
     ],
     "prompt_number": 10
    },
    {
     "cell_type": "code",
     "collapsed": false,
     "input": [
      "#With strings, you can also ask for any range of characters with a colon, from the number before the colon to the spot \n",
      "#immediately before the number after the colon.\n",
      "print greeting[0:4]"
     ],
     "language": "python",
     "metadata": {},
     "outputs": [
      {
       "output_type": "stream",
       "stream": "stdout",
       "text": [
        "Hell\n"
       ]
      }
     ],
     "prompt_number": 11
    },
    {
     "cell_type": "code",
     "collapsed": false,
     "input": [
      "#Leaving a number out on one side of the colon assumes the beginning or end of the string\n",
      "print greeting[:4]\n",
      "print greeting[4:]"
     ],
     "language": "python",
     "metadata": {},
     "outputs": [
      {
       "output_type": "stream",
       "stream": "stdout",
       "text": [
        "Hell\n",
        "o world!\n"
       ]
      }
     ],
     "prompt_number": 12
    },
    {
     "cell_type": "code",
     "collapsed": false,
     "input": [
      "#There are also specific \"methods\" that work only on strings.  See what the following examples do:\n",
      "print greeting\n",
      "print greeting.upper()\n",
      "print greeting.find('wor')\n",
      "print greeting.replace('hello','goodbye')\n",
      "print greeting.split(' ') #Especially useful for dealing with files.  See \"lists\" below.\n",
      "print greeting.replace('hello','goodbye').split(' ')"
     ],
     "language": "python",
     "metadata": {},
     "outputs": [
      {
       "output_type": "stream",
       "stream": "stdout",
       "text": [
        "Hello world!\n",
        "HELLO WORLD!\n",
        "6\n",
        "Hello world!\n",
        "['Hello', 'world!']\n",
        "['Hello', 'world!']\n"
       ]
      }
     ],
     "prompt_number": 13
    },
    {
     "cell_type": "code",
     "collapsed": false,
     "input": [
      "#Strings can be added together to create longer strings\n",
      "greeting = 'hello ' + 'world'\n",
      "print greeting\n",
      "#and multiplied to create much longer strings\n",
      "print greeting * 4"
     ],
     "language": "python",
     "metadata": {},
     "outputs": [
      {
       "output_type": "stream",
       "stream": "stdout",
       "text": [
        "hello world\n",
        "hello worldhello worldhello worldhello world\n"
       ]
      }
     ],
     "prompt_number": 14
    },
    {
     "cell_type": "code",
     "collapsed": false,
     "input": [
      "#Finally, formatting is a useful way to customize a general string expression\n",
      "print \"'{}' is a good first programming phrase.\".format(greeting)"
     ],
     "language": "python",
     "metadata": {},
     "outputs": [
      {
       "output_type": "stream",
       "stream": "stdout",
       "text": [
        "'hello world' is a good first programming phrase.\n"
       ]
      }
     ],
     "prompt_number": 15
    },
    {
     "cell_type": "heading",
     "level": 3,
     "metadata": {},
     "source": [
      "Numbers"
     ]
    },
    {
     "cell_type": "code",
     "collapsed": false,
     "input": [
      "#Alright, so you've mastered Human speech, but what about the Universal language?\n",
      "\n",
      "#It turns out computers are wicked good at math, and that's mostly why we use them in our research: to store and manipulate\n",
      "#a large quantity of numbers.\n",
      "\n",
      "#There are two main types of python numbers: integers (round numbers) and floats (numbers with decimals).\n",
      "print type(2)\n",
      "print type(2.0)"
     ],
     "language": "python",
     "metadata": {},
     "outputs": [
      {
       "output_type": "stream",
       "stream": "stdout",
       "text": [
        "<type 'int'>\n",
        "<type 'float'>\n"
       ]
      }
     ],
     "prompt_number": 16
    },
    {
     "cell_type": "code",
     "collapsed": false,
     "input": [
      "#Integers are great for counting discrete things, but aren't generally the best choice for general math.\n",
      "print 3/2\n",
      "print 3./2."
     ],
     "language": "python",
     "metadata": {},
     "outputs": [
      {
       "output_type": "stream",
       "stream": "stdout",
       "text": [
        "1\n",
        "1.5\n"
       ]
      }
     ],
     "prompt_number": 17
    },
    {
     "cell_type": "code",
     "collapsed": false,
     "input": [
      "#Basic built in mathmatical expressions include:\n",
      "#addition\n",
      "print 23.+34.\n",
      "#subtraction\n",
      "print 23.-34.\n",
      "#multiplication\n",
      "print 23.*3.5\n",
      "#division\n",
      "print 23./3.\n",
      "#modulus (remainder after division)\n",
      "print 23 % 3\n",
      "#powers\n",
      "print 2**100"
     ],
     "language": "python",
     "metadata": {},
     "outputs": [
      {
       "output_type": "stream",
       "stream": "stdout",
       "text": [
        "57.0\n",
        "-11.0\n",
        "80.5\n",
        "7.66666666667\n",
        "2\n",
        "1267650600228229401496703205376\n"
       ]
      }
     ],
     "prompt_number": 18
    },
    {
     "cell_type": "heading",
     "level": 3,
     "metadata": {},
     "source": [
      "Importing modules"
     ]
    },
    {
     "cell_type": "code",
     "collapsed": false,
     "input": [
      "#More advanced math is possible, but requires you to import additional modules\n",
      "import math\n",
      "print math.pi\n",
      "print math.sqrt(23)"
     ],
     "language": "python",
     "metadata": {},
     "outputs": [
      {
       "output_type": "stream",
       "stream": "stdout",
       "text": [
        "3.14159265359\n",
        "4.79583152331\n"
       ]
      }
     ],
     "prompt_number": 19
    },
    {
     "cell_type": "code",
     "collapsed": false,
     "input": [
      "#There are other import options that you may find helpful\n",
      "import math as m\n",
      "print m.sqrt(23)\n",
      "\n",
      "#Or\n",
      "from math import sqrt\n",
      "print sqrt(23)\n",
      "#But beware that this approach may overwrite a local object also called \"sqrt\""
     ],
     "language": "python",
     "metadata": {},
     "outputs": [
      {
       "output_type": "stream",
       "stream": "stdout",
       "text": [
        "4.79583152331\n",
        "4.79583152331\n"
       ]
      }
     ],
     "prompt_number": 20
    },
    {
     "cell_type": "code",
     "collapsed": false,
     "input": [
      "#Python is so powerful mostly because there are so many powerful modules written for it!\n",
      "import random\n",
      "print random.random()\n",
      "print random.choice([\"pig\",\"dog\",\"cow\",\"chicken\"])"
     ],
     "language": "python",
     "metadata": {},
     "outputs": [
      {
       "output_type": "stream",
       "stream": "stdout",
       "text": [
        "0.258844755974\n",
        "dog\n"
       ]
      }
     ],
     "prompt_number": 21
    },
    {
     "cell_type": "heading",
     "level": 3,
     "metadata": {},
     "source": [
      "Lists"
     ]
    },
    {
     "cell_type": "code",
     "collapsed": false,
     "input": [
      "#Uh oh, I let a different kind of python object slip in there: a list!\n",
      "l=[\"pig\",\"dog\",\"cow\",\"chicken\"]\n",
      "print l\n",
      "print type(l)\n",
      "print len(l)"
     ],
     "language": "python",
     "metadata": {},
     "outputs": [
      {
       "output_type": "stream",
       "stream": "stdout",
       "text": [
        "['pig', 'dog', 'cow', 'chicken']\n",
        "<type 'list'>\n",
        "4\n"
       ]
      }
     ],
     "prompt_number": 22
    },
    {
     "cell_type": "code",
     "collapsed": false,
     "input": [
      "#Lists are ordered objects and can be indexed just like strings\n",
      "print l[1]\n",
      "print l[:2]\n",
      "print l[-2]"
     ],
     "language": "python",
     "metadata": {},
     "outputs": [
      {
       "output_type": "stream",
       "stream": "stdout",
       "text": [
        "dog\n",
        "['pig', 'dog']\n",
        "cow\n"
       ]
      }
     ],
     "prompt_number": 23
    },
    {
     "cell_type": "code",
     "collapsed": false,
     "input": [
      "#Lists can contain any kind of other objects, at the same time!\n",
      "l=[1,'pig',3.2]\n",
      "print l\n",
      "print len(l)"
     ],
     "language": "python",
     "metadata": {},
     "outputs": [
      {
       "output_type": "stream",
       "stream": "stdout",
       "text": [
        "[1, 'pig', 3.2]\n",
        "3\n"
       ]
      }
     ],
     "prompt_number": 24
    },
    {
     "cell_type": "code",
     "collapsed": false,
     "input": [
      "#Lists can have items added to them\n",
      "l.append('appended item')\n",
      "print l"
     ],
     "language": "python",
     "metadata": {},
     "outputs": [
      {
       "output_type": "stream",
       "stream": "stdout",
       "text": [
        "[1, 'pig', 3.2, 'appended item']\n"
       ]
      }
     ],
     "prompt_number": 25
    },
    {
     "cell_type": "code",
     "collapsed": false,
     "input": [
      "#And items can be popped off from any location\n",
      "print l.pop(1)\n",
      "print l"
     ],
     "language": "python",
     "metadata": {},
     "outputs": [
      {
       "output_type": "stream",
       "stream": "stdout",
       "text": [
        "pig\n",
        "[1, 3.2, 'appended item']\n"
       ]
      }
     ],
     "prompt_number": 26
    },
    {
     "cell_type": "code",
     "collapsed": false,
     "input": [
      "#a useful type of list is a list of increasing numbers\n",
      "numbers = range(10)\n",
      "print numbers, type(numbers)"
     ],
     "language": "python",
     "metadata": {},
     "outputs": [
      {
       "output_type": "stream",
       "stream": "stdout",
       "text": [
        "[0, 1, 2, 3, 4, 5, 6, 7, 8, 9] <type 'list'>\n"
       ]
      }
     ],
     "prompt_number": 27
    },
    {
     "cell_type": "code",
     "collapsed": false,
     "input": [
      "#or decreasing numbers\n",
      "numbers.reverse()\n",
      "print numbers"
     ],
     "language": "python",
     "metadata": {},
     "outputs": [
      {
       "output_type": "stream",
       "stream": "stdout",
       "text": [
        "[9, 8, 7, 6, 5, 4, 3, 2, 1, 0]\n"
       ]
      }
     ],
     "prompt_number": 28
    },
    {
     "cell_type": "code",
     "collapsed": false,
     "input": [
      "#Lists can be conveniently sorted.\n",
      "rand = [random.random(),random.random(),random.random(),random.random()]\n",
      "print rand\n",
      "rand.sort()\n",
      "print rand"
     ],
     "language": "python",
     "metadata": {},
     "outputs": [
      {
       "output_type": "stream",
       "stream": "stdout",
       "text": [
        "[0.9881396082525716, 0.7958804448766574, 0.23649500584053518, 0.41769052711428]\n",
        "[0.23649500584053518, 0.41769052711428, 0.7958804448766574, 0.9881396082525716]\n"
       ]
      }
     ],
     "prompt_number": 29
    },
    {
     "cell_type": "heading",
     "level": 3,
     "metadata": {},
     "source": [
      "NumPy arrays"
     ]
    },
    {
     "cell_type": "code",
     "collapsed": false,
     "input": [
      "#An object quite similar to a list is a NumPy array, but NumPy arrays hold advantages for astronomical data in many\n",
      "#situations because of the way that the can be added, multiplied, etc.\n",
      "\n",
      "#For example, with lists:\n",
      "lista=[1,2,3,4]\n",
      "listb=[4,4,4,4]\n",
      "print lista+listb"
     ],
     "language": "python",
     "metadata": {},
     "outputs": [
      {
       "output_type": "stream",
       "stream": "stdout",
       "text": [
        "[1, 2, 3, 4, 4, 4, 4, 4]\n"
       ]
      }
     ],
     "prompt_number": 30
    },
    {
     "cell_type": "code",
     "collapsed": false,
     "input": [
      "#But if we import the NumPy module and cast these lists as Numpy arrays:\n",
      "import numpy as np\n",
      "arraya = np.array(lista,float) #with type specified\n",
      "print arraya\n",
      "arrayb = np.array(listb,float)\n",
      "print arrayb\n",
      "arrayc = arraya+arrayb\n",
      "print arrayc"
     ],
     "language": "python",
     "metadata": {},
     "outputs": [
      {
       "output_type": "stream",
       "stream": "stdout",
       "text": [
        "[ 1.  2.  3.  4.]\n",
        "[ 4.  4.  4.  4.]\n",
        "[ 5.  6.  7.  8.]\n"
       ]
      }
     ],
     "prompt_number": 31
    },
    {
     "cell_type": "code",
     "collapsed": false,
     "input": [
      "#There are so many powerful ways to manipulate NumPy arrays that we can only briefly demonstrate a couple here now,\n",
      "#but if you think of something you'd like to do with an array here that isn't mentioned, Google it!\n",
      "#There is a wealth of useful resources for learning how to do things in Python on the Internet.\n",
      "print arrayc.shape\n",
      "print arrayc.sum()\n",
      "print arrayc.mean()\n",
      "print np.sqrt(arrayc)"
     ],
     "language": "python",
     "metadata": {},
     "outputs": [
      {
       "output_type": "stream",
       "stream": "stdout",
       "text": [
        "(4,)\n",
        "26.0\n",
        "6.5\n",
        "[ 2.23606798  2.44948974  2.64575131  2.82842712]\n"
       ]
      }
     ],
     "prompt_number": 32
    },
    {
     "cell_type": "code",
     "collapsed": false,
     "input": [
      "#Arrays can be created from lists, as shown above, or generated directly:\n",
      "\n",
      "#spanning a given range of values\n",
      "print np.arange(9)\n",
      "print np.arange(9,dtype=float)\n",
      "print np.arange(2,9,dtype=float)\n",
      "print np.arange(2,9,2,dtype=float) #by 2s\n",
      "\n",
      "#or not:\n",
      "print np.zeros(10)\n",
      "print np.ones(12)\n",
      "print np.random.rand(4)"
     ],
     "language": "python",
     "metadata": {},
     "outputs": [
      {
       "output_type": "stream",
       "stream": "stdout",
       "text": [
        "[0 1 2 3 4 5 6 7 8]\n",
        "[ 0.  1.  2.  3.  4.  5.  6.  7.  8.]\n",
        "[ 2.  3.  4.  5.  6.  7.  8.]\n",
        "[ 2.  4.  6.  8.]\n",
        "[ 0.  0.  0.  0.  0.  0.  0.  0.  0.  0.]\n",
        "[ 1.  1.  1.  1.  1.  1.  1.  1.  1.  1.  1.  1.]\n",
        "[ 0.01621034  0.65269866  0.28875607  0.22755279]\n"
       ]
      }
     ],
     "prompt_number": 33
    },
    {
     "cell_type": "code",
     "collapsed": false,
     "input": [
      "#And NumPy arrays do not have to be one-dimensional!\n",
      "print np.random.rand(3,5)\n",
      "print np.zeros((3,5))\n",
      "array2d = np.array([[1,2,3,4],[5,6,7,8]])\n",
      "\n",
      "#These are really more like multi-dimensional arrays, rather than nested lists that can be lists of lists\n",
      "print [[1,2,3,4],[5,6,7,8]]"
     ],
     "language": "python",
     "metadata": {},
     "outputs": [
      {
       "output_type": "stream",
       "stream": "stdout",
       "text": [
        "[[ 0.68625257  0.64155192  0.40645368  0.16485515  0.78473816]\n",
        " [ 0.33090163  0.12814017  0.4057553   0.15111299  0.53146961]\n",
        " [ 0.49139621  0.76262865  0.00724964  0.34109803  0.0922266 ]]\n",
        "[[ 0.  0.  0.  0.  0.]\n",
        " [ 0.  0.  0.  0.  0.]\n",
        " [ 0.  0.  0.  0.  0.]]\n",
        "[[1, 2, 3, 4], [5, 6, 7, 8]]\n"
       ]
      }
     ],
     "prompt_number": 34
    },
    {
     "cell_type": "code",
     "collapsed": false,
     "input": [
      "#Values at desired locations in a NumPy array can be accessed and changed as follows\n",
      "print lista\n",
      "print lista[2]\n",
      "lista[2]=9.5\n",
      "print lista\n",
      "\n",
      "print array2d\n",
      "print array2d[0]\n",
      "array2d[0]=array2d[0]**3.\n",
      "print array2d"
     ],
     "language": "python",
     "metadata": {},
     "outputs": [
      {
       "output_type": "stream",
       "stream": "stdout",
       "text": [
        "[1, 2, 3, 4]\n",
        "3\n",
        "[1, 2, 9.5, 4]\n",
        "[[1 2 3 4]\n",
        " [5 6 7 8]]\n",
        "[1 2 3 4]\n",
        "[[ 1  8 27 64]\n",
        " [ 5  6  7  8]]\n"
       ]
      }
     ],
     "prompt_number": 35
    },
    {
     "cell_type": "heading",
     "level": 3,
     "metadata": {},
     "source": [
      "Reading in files"
     ]
    },
    {
     "cell_type": "code",
     "collapsed": false,
     "input": [
      "#Importantly for your project purposes, the NumPy module also has a feature that lets you trivially import data\n",
      "#from a file into a NumPy array\n",
      "exampledata = np.loadtxt('exampledata.txt',skiprows=1) #filename is a string\n",
      "print exampledata"
     ],
     "language": "python",
     "metadata": {},
     "outputs": [
      {
       "output_type": "stream",
       "stream": "stdout",
       "text": [
        "[[  1.17862600e+04   3.48100000e+00]\n",
        " [  1.18606160e+04   1.07480000e+01]\n",
        " [  1.18005530e+04   1.06770000e+01]\n",
        " [  1.17774210e+04   1.06600000e+01]\n",
        " [  1.17388570e+04   1.13620000e+01]\n",
        " [  1.17035460e+04   1.24510000e+01]\n",
        " [  1.16741900e+04   1.35400000e+01]\n",
        " [  1.16383760e+04   1.53500000e+01]\n",
        " [  1.16148640e+04   1.65440000e+01]\n",
        " [  1.15764350e+04   1.82300000e+01]\n",
        " [  1.15402520e+04   1.96340000e+01]\n",
        " [  1.15028160e+04   2.05830000e+01]\n",
        " [  1.14681190e+04   2.10230000e+01]\n",
        " [  1.14438590e+04   2.16730000e+01]\n",
        " [  1.14161240e+04   2.33590000e+01]\n",
        " [  1.13944900e+04   2.61150000e+01]\n",
        " [  1.13707330e+04   2.99970000e+01]\n",
        " [  1.13493340e+04   3.38450000e+01]\n",
        " [  1.13270740e+04   3.68300000e+01]\n",
        " [  1.13048140e+04   3.91490000e+01]\n",
        " [  1.12801860e+04   4.05010000e+01]\n",
        " [  1.12391520e+04   4.13090000e+01]\n",
        " [  1.11910230e+04   4.12730000e+01]\n",
        " [  1.11407710e+04   4.13780000e+01]\n",
        " [  1.10862950e+04   4.05700000e+01]\n",
        " [  1.10165310e+04   4.01840000e+01]\n",
        " [  1.09838230e+04   3.97800000e+01]\n",
        " [  1.09610610e+04   3.85160000e+01]\n",
        " [  1.09396730e+04   3.64080000e+01]\n",
        " [  1.09242520e+04   3.36160000e+01]\n",
        " [  1.09104400e+04   3.08230000e+01]\n",
        " [  1.08947730e+04   2.70460000e+01]\n",
        " [  1.08772400e+04   2.23230000e+01]\n",
        " [  1.08587130e+04   1.83890000e+01]\n",
        " [  1.08282400e+04   1.36990000e+01]\n",
        " [  1.07978900e+04   1.17140000e+01]\n",
        " [  1.07651820e+04   1.07310000e+01]]\n"
       ]
      }
     ],
     "prompt_number": 36
    },
    {
     "cell_type": "heading",
     "level": 3,
     "metadata": {},
     "source": [
      "Simple plotting"
     ]
    },
    {
     "cell_type": "code",
     "collapsed": false,
     "input": [
      "#It is essential for the scientist to be able to communicate their data and results effectively to their audience,\n",
      "#and Python has multiple options for plotting modules, with matplotlib being the most widely used today.\n",
      "import matplotlib.pyplot as plt\n",
      "#the next line tells IPython to disply the plots in the Notebook!\n",
      "%matplotlib inline\n",
      "\n",
      "x = np.arange(50)\n",
      "y = np.random.rand(50)\n",
      "\n",
      "plt.figure()\n",
      "plt.plot(x,y)\n",
      "plt.xlabel('x axis')\n",
      "plt.ylabel('random values')\n",
      "plt.title('title')\n",
      "plt.show()"
     ],
     "language": "python",
     "metadata": {},
     "outputs": [
      {
       "metadata": {},
       "output_type": "display_data",
       "png": "[encoded data removed]",
       "text": [
        "<matplotlib.figure.Figure at 0x108af23d0>"
       ]
      }
     ],
     "prompt_number": 37
    },
    {
     "cell_type": "code",
     "collapsed": false,
     "input": [
      "#These plots are highly customizable\n",
      "plt.figure()\n",
      "plt.plot(x,y,'r+') #r for red; + for + symbol; see help (shift+tab) for more options\n",
      "plt.xlabel('x axis')\n",
      "plt.ylabel('random values')\n",
      "plt.title('title')\n",
      "plt.show()"
     ],
     "language": "python",
     "metadata": {},
     "outputs": [
      {
       "metadata": {},
       "output_type": "display_data",
       "png": "[encoded data removed]",
       "text": [
        "<matplotlib.figure.Figure at 0x10574ba10>"
       ]
      }
     ],
     "prompt_number": 38
    },
    {
     "cell_type": "code",
     "collapsed": false,
     "input": [
      "#...and can even get quite fancy\n",
      "fig = plt.figure()\n",
      "\n",
      "axes1 = fig.add_axes([0.1, 0.1, 0.8, 0.8]) # main axes\n",
      "axes2 = fig.add_axes([0.2, 0.3, 0.3, 0.5]) # inset axes\n",
      "\n",
      "# main figure\n",
      "axes1.plot(x, y, 'ro')\n",
      "axes1.set_xlabel('x')\n",
      "axes1.set_ylabel('y')\n",
      "axes1.set_title('these plots are nonsense');\n",
      "\n",
      "# insert\n",
      "axes2.plot(y, x, 'g--')\n",
      "axes2.set_xlabel('y')\n",
      "axes2.set_ylabel('x')\n",
      "axes2.set_title('this plot is in the other!');\n",
      "\n",
      "plt.show()"
     ],
     "language": "python",
     "metadata": {},
     "outputs": [
      {
       "metadata": {},
       "output_type": "display_data",
       "png": "[encoded data removed]",
       "text": [
        "<matplotlib.figure.Figure at 0x10574b750>"
       ]
      }
     ],
     "prompt_number": 39
    },
    {
     "cell_type": "code",
     "collapsed": false,
     "input": [
      "#Finally, it's easy to save a copy of the plot.  You just have to do it before you call the show() command:\n",
      "#...and can even get quite fancy\n",
      "fig = plt.figure()\n",
      "\n",
      "axes1 = fig.add_axes([0.1, 0.1, 0.8, 0.8]) # main axes\n",
      "axes2 = fig.add_axes([0.2, 0.3, 0.3, 0.5]) # inset axes\n",
      "\n",
      "# main figure\n",
      "axes1.plot(x, y, 'ro')\n",
      "axes1.set_xlabel('x')\n",
      "axes1.set_ylabel('y')\n",
      "axes1.set_title('these plots are nonsense');\n",
      "\n",
      "# insert\n",
      "axes2.plot(y, x, 'g--')\n",
      "axes2.set_xlabel('y')\n",
      "axes2.set_ylabel('x')\n",
      "axes2.set_title('this plot is in the other!');\n",
      "\n",
      "plt.savefig('randomplot.pdf')\n",
      "plt.show()"
     ],
     "language": "python",
     "metadata": {},
     "outputs": [
      {
       "metadata": {},
       "output_type": "display_data",
       "png": "[encoded data removed]",
       "text": [
        "<matplotlib.figure.Figure at 0x108e2fb50>"
       ]
      }
     ],
     "prompt_number": 40
    },
    {
     "cell_type": "heading",
     "level": 3,
     "metadata": {},
     "source": [
      "Other"
     ]
    },
    {
     "cell_type": "markdown",
     "metadata": {},
     "source": [
      "You are now familiar with a very most basic aspects of the Python programming language.  You can build on this foundation to make your computer do virtually anything a computer can.\n",
      "\n",
      "Practice some of the above commands in an IPython Notebook of your own.  Explore possible commands with auto-complete (Tab) and by reading documentation (Shift+Tab).  Want to do something with Python but not sure how?  Google it!  There are tons of useful references out there.  That's how everybody learns Python.\n",
      "\n",
      "Next week we will take a look at some more advanced features, including conditional statements, for loops, and functions.  You will see then how Python used spaces at the beginning of certain lines to keep track of the relation between lines of code.  For now we've limited ourselves to pretty simple commands, so keep your code left-justified for the time being and you'll do fine."
     ]
    }
   ],
   "metadata": {}
  }
 ]
}