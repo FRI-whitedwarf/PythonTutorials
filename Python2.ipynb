{
 "cells": [
  {
   "cell_type": "markdown",
   "metadata": {},
   "source": [
    "# FRI Introduction to Python 2"
   ]
  },
  {
   "cell_type": "markdown",
   "metadata": {},
   "source": [
    "Last week you got familiar with how to manipulate some basic Python variable, one way to read in data, and how to make a simple plot.  This week you will extend your abilities in powerful ways, learning conditional statements, for and while loops, and how to write functions.  We will also touch on a more generic way to read and write files.\n",
    "\n",
    "Note that white space (placement of spaces/indentation) is important to how Python interprets your code.  You will see that indented lines are interpreted as a block of code that runs under the condition described before it in a line that ends with a colon (:).  It is important to keep track of our indentation to get your code to run as expected.\n",
    "\n",
    "The following are only very limited examples of the Python features, but are meant to be representative of their most basic characteristics.  You may want to refer to these examples (and those from the first Python Introduction) as you complete your Lab 2 assignments.  You are not required to copy and run all of these examples, since the output is shown here, but you may find it helpful to copy and modify some examples here to gain a better understanding of how they work."
   ]
  },
  {
   "cell_type": "markdown",
   "metadata": {},
   "source": [
    "### Conditional Statements"
   ]
  },
  {
   "cell_type": "code",
   "execution_count": 1,
   "metadata": {
    "collapsed": false
   },
   "outputs": [
    {
     "name": "stdout",
     "output_type": "stream",
     "text": [
      "False\n",
      "False\n",
      "True\n",
      "True\n",
      "False\n",
      "True\n",
      "True\n"
     ]
    }
   ],
   "source": [
    "#Conditional statements allow your code to make decisions.  \n",
    "#They take the form \"If something is True, then execute some code.\"\n",
    "\n",
    "#The first step, then, is to understand how to evaluate if something is true.\n",
    "#The basic ways to test a value/variable are as follows:\n",
    "a = -1 #example number \n",
    "b = 45 #example number\n",
    "print a > b #a greater than b?\n",
    "print a >= b #a greater than or equal to b?\n",
    "print a < b #a less than b?\n",
    "print a <= b #a less than or equal to b?\n",
    "print a == b #a equal to b?\n",
    "print a != b #a not equal to b?\n",
    "print not a == b #not a equal to b? (equiv. to line above in this case)"
   ]
  },
  {
   "cell_type": "code",
   "execution_count": 2,
   "metadata": {
    "collapsed": false
   },
   "outputs": [
    {
     "name": "stdout",
     "output_type": "stream",
     "text": [
      "The square root of -16.0 is 4.0i\n"
     ]
    }
   ],
   "source": [
    "#Note that conditional statements should end with a colon, \n",
    "#and the line that should be run if the condition is met\n",
    "#is indented on the next line.  The final print statement \n",
    "#is not indented, and would run whether the condition was\n",
    "#met or not.\n",
    "\n",
    "#The tab structure can be extended to provide levels of code: \n",
    "#conditions within conditions, or conditions within functions\n",
    "#or loops, as we will see later.\n",
    "\n",
    "import numpy as np #we'll use numpy for advanced math functions\n",
    "testnumber = -16.0\n",
    "\n",
    "#print a statement about the square root of this number, \n",
    "#and specifically mention if the number is zero.\n",
    "if testnumber !=0: #deal with nonzero numbers first\n",
    "    if testnumber > 0:\n",
    "        sqrtnum = np.sqrt(testnumber)\n",
    "        print 'The square root of '+str(testnumber)+' is '+str(sqrtnum)\n",
    "    else: #if the previous \"if\" statement wasn't met, run the code in the \"else\" statement\n",
    "        imaginaryroot = np.sqrt(-1*testnumber)\n",
    "        print 'The square root of '+str(testnumber)+' is '+str(imaginaryroot)+'i'\n",
    "else: #notice the level of this indentation. This \"else\" command is an exception to the previous \"if\" on the same line!\n",
    "    print \"This number is zero.\""
   ]
  },
  {
   "cell_type": "code",
   "execution_count": 3,
   "metadata": {
    "collapsed": false
   },
   "outputs": [
    {
     "name": "stdout",
     "output_type": "stream",
     "text": [
      "True\n",
      "False\n",
      "False\n",
      "False\n",
      "True\n"
     ]
    }
   ],
   "source": [
    "#Finally, you can combine multiple conditions in your calls with \"and\" or \"or\"\n",
    "#Let's see how that works, with truth tables\n",
    "\n",
    "#There are four combinations we can test for the \"and\" case:\n",
    "print True and True\n",
    "print True and False\n",
    "print False and True\n",
    "print False and False\n",
    "\n",
    "#linking conditions together with \"and\" creates an combined condition that \n",
    "#is only true if all individual tests are True\n",
    "print (5 > 3) and 3 == np.sqrt(9) and not 5 < -1"
   ]
  },
  {
   "cell_type": "code",
   "execution_count": 4,
   "metadata": {
    "collapsed": false
   },
   "outputs": [
    {
     "name": "stdout",
     "output_type": "stream",
     "text": [
      "True\n",
      "True\n",
      "True\n",
      "False\n",
      "True\n"
     ]
    }
   ],
   "source": [
    "#We can also do truth tables for \"or\"\n",
    "\n",
    "#There are also four combinations we can test for the \"or\" case:\n",
    "print True or True\n",
    "print True or False\n",
    "print False or True\n",
    "print False or False\n",
    "\n",
    "#This is satisfied if ANY of the individual conditions are True\n",
    "\n",
    "#example\n",
    "print (5 > 3) or 3 != np.sqrt(9) or 5 < -1"
   ]
  },
  {
   "cell_type": "code",
   "execution_count": 5,
   "metadata": {
    "collapsed": false
   },
   "outputs": [
    {
     "name": "stdout",
     "output_type": "stream",
     "text": [
      "You can safely divide things by 12\n"
     ]
    }
   ],
   "source": [
    "#These combined conditions are used with an if-statement as you might expect\n",
    "\n",
    "x=12\n",
    "\n",
    "if x < 0 or x > 0:\n",
    "    print \"You can safely divide things by \"+str(x)"
   ]
  },
  {
   "cell_type": "markdown",
   "metadata": {},
   "source": [
    "### \"while\" and \"for\" Loops"
   ]
  },
  {
   "cell_type": "code",
   "execution_count": 6,
   "metadata": {
    "collapsed": false
   },
   "outputs": [
    {
     "name": "stdout",
     "output_type": "stream",
     "text": [
      "4 bottles of beer on the wall.\n",
      "4 bottles of beer.\n",
      "Take one down and pass it around.\n",
      "3 bottles of beer on the wall...\n",
      "\n",
      "3 bottles of beer on the wall.\n",
      "3 bottles of beer.\n",
      "Take one down and pass it around.\n",
      "2 bottles of beer on the wall...\n",
      "\n",
      "2 bottles of beer on the wall.\n",
      "2 bottles of beer.\n",
      "Take one down and pass it around.\n",
      "1 bottles of beer on the wall...\n",
      "\n",
      "1 bottles of beer on the wall.\n",
      "1 bottles of beer.\n",
      "Take one down and pass it around.\n",
      "0 bottles of beer on the wall...\n",
      "\n"
     ]
    }
   ],
   "source": [
    "#Loops allow you to do something over and over until some condition \n",
    "#is met (it's got to end sometime!).  There are two main types of loops: \n",
    "#\"while\" and \"for\" loops.  We'll look at while loops first.\n",
    "\n",
    "#Similar to how if statements let you execute some code if a condition \n",
    "#was met, while loops execute a chunk of code over and over as long as a \n",
    "#condition is met.\n",
    "\n",
    "beeronthewall=4\n",
    "while beeronthewall > 0:\n",
    "    print str(beeronthewall)+' bottles of beer on the wall.'\n",
    "    print str(beeronthewall)+' bottles of beer.'\n",
    "    print 'Take one down and pass it around.'\n",
    "    beeronthewall -= 1 # \"-=\" means set the value to one less than it was\n",
    "    print str(beeronthewall)+' bottles of beer on the wall...\\n' \n",
    "    # the \"\\n\" means to add an extra line break here in the string\n",
    "    "
   ]
  },
  {
   "cell_type": "code",
   "execution_count": 7,
   "metadata": {
    "collapsed": false
   },
   "outputs": [
    {
     "name": "stdout",
     "output_type": "stream",
     "text": [
      "0\n",
      "1\n",
      "4\n",
      "9\n",
      "16\n",
      "25\n"
     ]
    }
   ],
   "source": [
    "#99 bottles is too much beer for anyone.  Please drink responsibly.\n",
    "\n",
    "#A \"for\" loop executes a chunk of code repeatedly as well, but it does so by \n",
    "#systematically working through the items of a supplied list.\n",
    "\n",
    "#Consider that we might want to print the squares of the digits 0 to 5\n",
    "lista=range(6)\n",
    "for value in lista:\n",
    "    print value ** 2"
   ]
  },
  {
   "cell_type": "code",
   "execution_count": 8,
   "metadata": {
    "collapsed": false
   },
   "outputs": [
    {
     "name": "stdout",
     "output_type": "stream",
     "text": [
      "['eatonkay', 'ikemonmay', 'tarsay', 'alaxygay']\n"
     ]
    }
   ],
   "source": [
    "#Perhaps more usefully, we want to go through a list and modify the values in a systematic way\n",
    "\n",
    "#Let's translate all the strings in a list to pig latin, for example:\n",
    "words = ['keaton','mikemon','star','galaxy']\n",
    "for i in range(len(words)): #i give the indices!\n",
    "    #note how we index the word in the list first, then the letters in that word\n",
    "    words[i] = words[i][1:]+words[i][0]+'ay'\n",
    "    \n",
    "print words"
   ]
  },
  {
   "cell_type": "code",
   "execution_count": 9,
   "metadata": {
    "collapsed": false
   },
   "outputs": [
    {
     "name": "stdout",
     "output_type": "stream",
     "text": [
      "['keaton', 'mikemon', 'star', 'galaxy']\n"
     ]
    }
   ],
   "source": [
    "#Pig latin is for for latin pigs.  Let's transalate those words back.\n",
    "for i in range(len(words)):\n",
    "    words[i]=words[i][-3]+words[i][0:-3]\n",
    "\n",
    "print words"
   ]
  },
  {
   "cell_type": "markdown",
   "metadata": {},
   "source": [
    "### Functions"
   ]
  },
  {
   "cell_type": "code",
   "execution_count": 10,
   "metadata": {
    "collapsed": false
   },
   "outputs": [
    {
     "name": "stdout",
     "output_type": "stream",
     "text": [
      "100\n",
      "<type 'builtin_function_or_method'>\n",
      "<type 'builtin_function_or_method'>\n"
     ]
    }
   ],
   "source": [
    "#Finally we're on to our last topic for these tutorials.  \n",
    "#This had been by no means a comprehensive overview of Python's\n",
    "#capabilities. Virtually anything a computer can do, it can be made \n",
    "#to do with Python.  Google is your friend.\n",
    "\n",
    "#Anything that you want code to be able to do more than once or twice \n",
    "#is best written as a function.\n",
    "#You already have a ton of experience running functions.\n",
    "\n",
    "print len(range(100)) #How many numbers in the range 0-99?\n",
    "print type(len) #Len is a function!\n",
    "print type(range) #Range is a function!"
   ]
  },
  {
   "cell_type": "code",
   "execution_count": 11,
   "metadata": {
    "collapsed": false
   },
   "outputs": [
    {
     "name": "stdout",
     "output_type": "stream",
     "text": [
      "Hello world!\n",
      "<type 'function'>\n"
     ]
    }
   ],
   "source": [
    "#Functions are defined by typing \"def function_name():\"\n",
    "#Just like loops and conditional statements, everything on indented \n",
    "#lines after the colon is the code belonging to the function.\n",
    "\n",
    "def helloworld():\n",
    "    print \"Hello world!\"\n",
    "\n",
    "#These functions are then called by just typing their name, with parentheses.\n",
    "helloworld()\n",
    "print type(helloworld)\n",
    "\n",
    "#It's just that easy to greet the world now!"
   ]
  },
  {
   "cell_type": "code",
   "execution_count": 12,
   "metadata": {
    "collapsed": false
   },
   "outputs": [
    {
     "name": "stdout",
     "output_type": "stream",
     "text": [
      "1.41421356237\n",
      "<type 'float'>\n"
     ]
    }
   ],
   "source": [
    "#Functions can importantly take in values to parameter variables, \n",
    "#and return values too.\n",
    "\n",
    "#You saw how to import a square-root function from the mumpy module before, \n",
    "#but that's such a simple task we might as easily write our own:\n",
    "\n",
    "def sqrt(value):\n",
    "    return value ** 0.5 #This is passed back as the value of the function evaluation.\n",
    "\n",
    "sqrttwo = sqrt(2)\n",
    "\n",
    "print sqrttwo\n",
    "print type(sqrttwo)\n",
    "\n",
    "#Such a common task as taking the square root of a number demands its own function!"
   ]
  },
  {
   "cell_type": "code",
   "execution_count": 13,
   "metadata": {
    "collapsed": false
   },
   "outputs": [
    {
     "name": "stdout",
     "output_type": "stream",
     "text": [
      "-\n",
      "negative\n",
      "+\n",
      "positive\n"
     ]
    }
   ],
   "source": [
    "#Functions can call other functions, they can contain loops and conditional statements. \n",
    "#They can have multiple parameters, and some of these can be optional with default values:\n",
    "\n",
    "def posorneg(n,fullword=False):\n",
    "    #Returns a plus or minus character depending on if passed value is positive or negative.\n",
    "    #Optionally return the full word \"positive\" or \"negative\"\n",
    "    if n < 0:\n",
    "        if fullword:\n",
    "            return 'negative'\n",
    "        else:\n",
    "            return '-'\n",
    "    else:\n",
    "        if fullword:\n",
    "            return 'positive'\n",
    "        else:\n",
    "            return '+'\n",
    "\n",
    "print posorneg(-3.4)\n",
    "print posorneg(-12/65.,fullword=True)\n",
    "print posorneg(0.0,fullword=False)\n",
    "print posorneg((-1)**32,True) \n",
    "#This function understands which optional parameter is set to True because there's only one.\n",
    "#More complicated functions may not."
   ]
  },
  {
   "cell_type": "code",
   "execution_count": 14,
   "metadata": {
    "collapsed": false
   },
   "outputs": [
    {
     "name": "stdout",
     "output_type": "stream",
     "text": [
      "Can't touch this.\n",
      "Can't touch this.\n"
     ]
    }
   ],
   "source": [
    "#Interestingly, what happens in a function stays in a function unless it's \"return\"ed\n",
    "#This provides a safety buffer against variable name conflicts, but it means you have \n",
    "#to pass AND return everything you want the function to work with or affect.\n",
    "\n",
    "string = \"Can't touch this.\"\n",
    "\n",
    "def trytotouchit():\n",
    "    string = \"I sure can touch this.\"\n",
    "\n",
    "print string\n",
    "trytotouchit()\n",
    "print string"
   ]
  },
  {
   "cell_type": "code",
   "execution_count": 15,
   "metadata": {
    "collapsed": false
   },
   "outputs": [
    {
     "name": "stdout",
     "output_type": "stream",
     "text": [
      "onutday\n"
     ]
    }
   ],
   "source": [
    "#Let's demonstrate again how to properly return a value by revisiting\n",
    "#our pig latin translator.\n",
    "\n",
    "def topiglatin(word):\n",
    "    return word[1:]+word[0]+'ay'\n",
    "\n",
    "print topiglatin('donut')"
   ]
  },
  {
   "cell_type": "markdown",
   "metadata": {},
   "source": [
    "### Reading/Writing Files"
   ]
  },
  {
   "cell_type": "code",
   "execution_count": 16,
   "metadata": {
    "collapsed": false
   },
   "outputs": [
    {
     "name": "stdout",
     "output_type": "stream",
     "text": [
      "<type 'file'>\n",
      "<type 'str'>\n",
      "WHEN I HEARD THE LEARN'D ASTRONOMER\n",
      "\n",
      "When I heard the learn'd astronomer,\n",
      "When the proofs, the figures, were ranged in columns before me,\n",
      "When I was shown the charts and diagrams, to add, divide, and measure them,\n",
      "When I sitting heard the astronomer where he lectured with much applause in the lecture-room,\n",
      "How soon unaccountable I became tired, and sick,\n",
      "Till rising and gliding out I wander'd off by myself,\n",
      "In the mystical moist night-air, and from time to time,\n",
      "Look'd up in perfect silence at the stars. \n",
      "\n"
     ]
    }
   ],
   "source": [
    "#To open a generic file, we use the \"open\" command.\n",
    "#Note that you won't be able to copy and paste these specific examples \n",
    "#since you don't have the files that I'm reading in! But this works for\n",
    "\n",
    "f = open('Whitman.txt','r') #'r' stands for read. 'w' stands for write, as we will see.\n",
    "print type(f)\n",
    "\n",
    "#We can read in all file contents as a single string as follows:\n",
    "contents = f.read()\n",
    "print type(contents)\n",
    "print contents\n",
    "\n",
    "#close the file when you're done with it!\n",
    "f.close()"
   ]
  },
  {
   "cell_type": "code",
   "execution_count": 17,
   "metadata": {
    "collapsed": false
   },
   "outputs": [
    {
     "name": "stdout",
     "output_type": "stream",
     "text": [
      "WHEN I HEARD THE LEARN'D ASTRONOMER\n",
      "\n",
      "True\n",
      "\n",
      "\n",
      "When I heard the learn'd astronomer,\n",
      "\n",
      "When the proofs, the figures, were ranged in columns before me,\n",
      "\n",
      "When I was shown the charts and diagrams, to add, divide, and measure them,\n",
      "\n",
      "When I sitting heard the astronomer where he lectured with much applause in the lecture-room,\n",
      "\n",
      "How soon unaccountable I became tired, and sick,\n",
      "\n",
      "Till rising and gliding out I wander'd off by myself,\n",
      "\n",
      "In the mystical moist night-air, and from time to time,\n",
      "\n",
      "Look'd up in perfect silence at the stars. \n",
      "\n",
      "\n"
     ]
    }
   ],
   "source": [
    "#It is often more useful in practice to read in a file line-by-line\n",
    "#Each line may contain information about a different star in astronomy, for example.\n",
    "f = open('Whitman.txt','r')\n",
    "firstline = f.readline()\n",
    "print firstline\n",
    "\n",
    "#Note that there is a '\\n' at the end of this string that acts as a single character \n",
    "#to indicate that there is another line following that is not displayed when printing.  \n",
    "#This can be a bit tricky at times!\n",
    "print firstline[-1] == '\\n'\n",
    "\n",
    "#Once you read in a line, later calls to readline() will read in the next lines:\n",
    "print f.readline() #Blank line in file! == '\\n'\n",
    "print f.readline()\n",
    "print f.readline()\n",
    "print f.readline()\n",
    "print f.readline()\n",
    "print f.readline()\n",
    "print f.readline()\n",
    "print f.readline()\n",
    "print f.readline() #Last line, no '\\n' at end of string\n",
    "print f.readline() #Beyond end of file returns empty string == ''\n",
    "\n",
    "f.close() #close your files!"
   ]
  },
  {
   "cell_type": "code",
   "execution_count": 18,
   "metadata": {
    "collapsed": false
   },
   "outputs": [
    {
     "name": "stdout",
     "output_type": "stream",
     "text": [
      "[6, 11, 14, 15, 8, 10, 10, 9]\n"
     ]
    }
   ],
   "source": [
    "#Let's count words in each line of this poem.\n",
    "f = open('Whitman.txt','r')\n",
    "\n",
    "#We're not interested in counting the words in the title or in the blank line, \n",
    "#so we'll read them in to get past them\n",
    "f.readline()\n",
    "f.readline()\n",
    "\n",
    "#Let's set up a blank list that will hold the numbers of words in each line.\n",
    "#We'll append the word counts as we go through the lines\n",
    "wordsinline=[] #empty list\n",
    "\n",
    "#Now to the meat of the poem.\n",
    "for line in f:\n",
    "    words = line.split(' ') #split string at the spaces.\n",
    "    #Astronomical data will come in many forms, often with space or comma separated values.\n",
    "    wordsinline.append(len(words))\n",
    "    \n",
    "print wordsinline\n",
    "\n",
    "f.close() #close your files!"
   ]
  },
  {
   "cell_type": "code",
   "execution_count": 19,
   "metadata": {
    "collapsed": false
   },
   "outputs": [],
   "source": [
    "#To write files, open the filename in 'w' mode\n",
    "\n",
    "#It's binge drinking time.\n",
    "\n",
    "f = open('99bottles.txt','w')\n",
    "beeronthewall=99\n",
    "while beeronthewall > 0:\n",
    "    # Remember that the \"\\n\" is needed to indicate the start of a new line.\n",
    "    f.write(str(beeronthewall)+' bottles of beer on the wall.\\n')\n",
    "    f.write(str(beeronthewall)+' bottles of beer.\\n')\n",
    "    f.write('Take one down and pass it around.\\n')\n",
    "    beeronthewall -= 1 # \"-=\" means set the value to one less than it was\n",
    "    f.write(str(beeronthewall)+' bottles of beer on the wall...\\n\\n') #skip a line after each verse.\n",
    "\n",
    "f.close() #You'll drink yourself into an early grave. But not before you close your files."
   ]
  },
  {
   "cell_type": "code",
   "execution_count": 20,
   "metadata": {
    "collapsed": false
   },
   "outputs": [
    {
     "name": "stdout",
     "output_type": "stream",
     "text": [
      "WHEN I HEARD THE LEARN'D ASTRONOMER\n",
      "\n",
      "When I heard the learn'd astronomer,\n",
      "When the proofs, the figures, were ranged in columns before me,\n",
      "When I was shown the charts and diagrams, to add, divide, and measure them,\n",
      "When I sitting heard the astronomer where he lectured with much applause in the lecture-room,\n",
      "How soon unaccountable I became tired, and sick,\n",
      "Till rising and gliding out I wander'd off by myself,\n",
      "In the mystical moist night-air, and from time to time,\n",
      "Look'd up in perfect silence at the stars. \n",
      "\n"
     ]
    }
   ],
   "source": [
    "#It's not quite time to bask fully in your learn'd state.\n",
    "#We have a real science project to help you to practice these skills, \n",
    "#so please continue on from your lab instructions.\n",
    "#Don't hesitate to ask a mentor for help if you get stuck.\n",
    "#If you get discouraged, take a break to meditate on some Whitman \n",
    "#and look at sweet space pictures on the Internet.\n",
    "\n",
    "f = open('Whitman.txt','r')\n",
    "print f.read()\n",
    "f.close()"
   ]
  }
 ],
 "metadata": {
  "kernelspec": {
   "display_name": "Python 2",
   "language": "python",
   "name": "python2"
  },
  "language_info": {
   "codemirror_mode": {
    "name": "ipython",
    "version": 2
   },
   "file_extension": ".py",
   "mimetype": "text/x-python",
   "name": "python",
   "nbconvert_exporter": "python",
   "pygments_lexer": "ipython2",
   "version": "2.7.11"
  }
 },
 "nbformat": 4,
 "nbformat_minor": 0
}
