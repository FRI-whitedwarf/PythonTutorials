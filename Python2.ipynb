{
 "metadata": {
  "name": "",
  "signature": "sha256:f5ff611f42f8bc61161aaf8286d53434e0ebc582b60492da2be1b69451409e4d"
 },
 "nbformat": 3,
 "nbformat_minor": 0,
 "worksheets": [
  {
   "cells": [
    {
     "cell_type": "heading",
     "level": 1,
     "metadata": {},
     "source": [
      "FRI Introduction to Python 2"
     ]
    },
    {
     "cell_type": "markdown",
     "metadata": {},
     "source": [
      "Last week you got familiar with how to manipulate some basic Python variable, one way to read in data, and how to make a simple plot.  This week you will extend your abilities in powerful ways, learning conditional statements, for and while loops, and how to write functions.\n",
      "\n",
      "Note that white space (placement of spaces/indentation) is important to how Python interprets your code.  You will see that indented lines are interpreted as a block of code that runs under the condition described before it in a line that ends with a colon (:).  It is important to keep track of our indentation to get your code to run as expected.\n",
      "\n",
      "The following are only very limited examples of the Python features, but are meant to be representative of their most basic characteristics.  You may want to refer to these examples (and those from the first Python Introduction) as you complete your Lab 2 assignments.  You are not required to copy and run all of these examples, since the output is shown here, but you may find it helpful to copy and modify some examples here to gain a better understanding of how they work."
     ]
    },
    {
     "cell_type": "heading",
     "level": 3,
     "metadata": {},
     "source": [
      "Conditional Statements"
     ]
    },
    {
     "cell_type": "code",
     "collapsed": false,
     "input": [
      "#Conditional statements allow your code to make decisions.  They take the form \"If something is True, then execute some code.\"\n",
      "\n",
      "#The first step, then, is to understand how to evaluate if something is true.\n",
      "#The basic ways to test a value/variable are as follows:\n",
      "a = -1 #example number \n",
      "b = 45 #example number\n",
      "print a > b #a greater than b?\n",
      "print a >= b #a greater than or equal to b?\n",
      "print a < b #a less than b?\n",
      "print a <= b #a less than or equal to b?\n",
      "print a == b #a equal to b?\n",
      "print a != b #a not equal to b?\n",
      "print not a == b #not a equal to b? (equiv. to line above in this case)"
     ],
     "language": "python",
     "metadata": {},
     "outputs": [
      {
       "output_type": "stream",
       "stream": "stdout",
       "text": [
        "False\n",
        "False\n",
        "True\n",
        "True\n",
        "False\n",
        "True\n",
        "True\n"
       ]
      }
     ],
     "prompt_number": 10
    },
    {
     "cell_type": "code",
     "collapsed": false,
     "input": [
      "#Some variable types have built in functionality to test different aspects and return true or false\n",
      "#Some examples for strings:\n",
      "texta='abs123'\n",
      "print texta.isalpha() #is this string made of non-numberic letters only?\n",
      "print texta.isalnum() #is this string alpha-numeric?\n",
      "print texta.isdigit() #digits only?\n",
      "print texta.islower() #are the letters all lowercase?\n",
      "print texta.isupper() #all uppercase?"
     ],
     "language": "python",
     "metadata": {},
     "outputs": [
      {
       "output_type": "stream",
       "stream": "stdout",
       "text": [
        "False\n",
        "True\n",
        "False\n",
        "True\n",
        "False\n"
       ]
      }
     ],
     "prompt_number": 26
    },
    {
     "cell_type": "code",
     "collapsed": false,
     "input": [
      "#Being able to run these tests is vastly useful.\n",
      "#For a very basic example, let's say that you want to deal with only lowercase letters, but can't ensure that the\n",
      "#strings you read in from a file are lowercase already\n",
      "examplestring='Keaton was HerE'\n",
      "if not examplestring.islower():\n",
      "    examplestring = examplestring.lower()\n",
      "\n",
      "print examplestring"
     ],
     "language": "python",
     "metadata": {},
     "outputs": [
      {
       "output_type": "stream",
       "stream": "stdout",
       "text": [
        "keaton was here\n"
       ]
      }
     ],
     "prompt_number": 27
    },
    {
     "cell_type": "code",
     "collapsed": false,
     "input": [
      "#Note that the conditional statement above ends with a colon, and the line that should be run if the condition is met\n",
      "#is indented on the next line.  The final print statement is not indented, and would run whether the condition was\n",
      "#met or not.\n",
      "\n",
      "#The tab structure can be extended to provide levels of code: conditions within conditions, or conditions within functions\n",
      "#or loops, as we will see later.\n",
      "\n",
      "import math #we'll use a math function here\n",
      "testnumber = -16.0\n",
      "\n",
      "#print a statement about the square root of this number, and specifically mention if the number is zero.\n",
      "if testnumber !=0: #deal with nonzero numbers first\n",
      "    if testnumber > 0:\n",
      "        sqrtnum = math.sqrt(testnumber)\n",
      "        print 'The square root of '+str(testnumber)+' is '+str(sqrtnum)\n",
      "    else: #if the previous \"if\" statement wasn't met, run the code in the \"else\" statement\n",
      "        imaginaryroot = math.sqrt(-1*testnumber)\n",
      "        print 'The square root of '+str(testnumber)+' is '+str(imaginaryroot)+'i'\n",
      "else: #notice the level of this indentation. This \"else\" command is an exception to the previous \"if\" on the same line!\n",
      "    print \"This number is zero.\""
     ],
     "language": "python",
     "metadata": {},
     "outputs": [
      {
       "output_type": "stream",
       "stream": "stdout",
       "text": [
        "The square root of -16.0 is 4.0i\n"
       ]
      }
     ],
     "prompt_number": 40
    },
    {
     "cell_type": "code",
     "collapsed": false,
     "input": [
      "#Finally, you can combine multiple conditions in your calls with \"and\" or \"or\"\n",
      "#Let's see how that works, with truth tables\n",
      "\n",
      "#There are four combinations we can test for the \"and\" case:\n",
      "print True and True\n",
      "print True and False\n",
      "print False and True\n",
      "print False and False\n",
      "\n",
      "#linking conditions together with \"and\" creates an combined condition that is only true if all individual tests are True\n",
      "print (5 > 3) and 3 == math.sqrt(9) and not 5 < -1"
     ],
     "language": "python",
     "metadata": {},
     "outputs": [
      {
       "output_type": "stream",
       "stream": "stdout",
       "text": [
        "True\n",
        "False\n",
        "False\n",
        "False\n",
        "True\n"
       ]
      }
     ],
     "prompt_number": 48
    },
    {
     "cell_type": "code",
     "collapsed": false,
     "input": [
      "#We can also do truth tables for \"or\"\n",
      "\n",
      "#There are also four combinations we can test for the \"or\" case:\n",
      "print True or True\n",
      "print True or False\n",
      "print False or True\n",
      "print False or False\n",
      "\n",
      "#This is satisfied if ANY of the individual conditions are True\n",
      "\n",
      "#example\n",
      "print (5 > 3) or 3 != math.sqrt(9) or 5 < -1"
     ],
     "language": "python",
     "metadata": {},
     "outputs": [
      {
       "output_type": "stream",
       "stream": "stdout",
       "text": [
        "True\n",
        "True\n",
        "True\n",
        "False\n",
        "True\n"
       ]
      }
     ],
     "prompt_number": 53
    },
    {
     "cell_type": "code",
     "collapsed": false,
     "input": [
      "#These combined conditions are used with an if-statement as you might expect\n",
      "\n",
      "x=12\n",
      "\n",
      "if x < 0 or x > 0:\n",
      "    print \"You can safely divide things by \"+str(x)"
     ],
     "language": "python",
     "metadata": {},
     "outputs": [
      {
       "output_type": "stream",
       "stream": "stdout",
       "text": [
        "You can safely divide things by 12\n"
       ]
      }
     ],
     "prompt_number": 55
    },
    {
     "cell_type": "heading",
     "level": 3,
     "metadata": {},
     "source": [
      "\"while\" and \"for\" Loops"
     ]
    },
    {
     "cell_type": "code",
     "collapsed": false,
     "input": [
      "#Loops allow you to do something over and over until some condition is met (it's got to end sometime!).  There are two main\n",
      "#types of loops: \"while\" and \"for\" loops.  We'll look at while loops first.\n",
      "\n",
      "#Similar to how if statements let you execute some code if a condition was met, while loops execute a chunk of code over\n",
      "#and over as long as a condition is met.\n",
      "\n",
      "beeronthewall=4\n",
      "while beeronthewall > 0:\n",
      "    print str(beeronthewall)+' bottles of beer on the wall.'\n",
      "    print str(beeronthewall)+' bottles of beer.'\n",
      "    print 'Take one down and pass it around.'\n",
      "    beeronthewall -= 1 # \"-=\" means set the value to one less than it was\n",
      "    print str(beeronthewall)+' bottles of beer on the wall...\\n' # the \"\\n\" means to add an extra line break here in the string\n",
      "    "
     ],
     "language": "python",
     "metadata": {},
     "outputs": [
      {
       "output_type": "stream",
       "stream": "stdout",
       "text": [
        "4 bottles of beer on the wall.\n",
        "4 bottles of beer.\n",
        "Take one down and pass it around.\n",
        "3 bottles of beer on the wall...\n",
        "\n",
        "3 bottles of beer on the wall.\n",
        "3 bottles of beer.\n",
        "Take one down and pass it around.\n",
        "2 bottles of beer on the wall...\n",
        "\n",
        "2 bottles of beer on the wall.\n",
        "2 bottles of beer.\n",
        "Take one down and pass it around.\n",
        "1 bottles of beer on the wall...\n",
        "\n",
        "1 bottles of beer on the wall.\n",
        "1 bottles of beer.\n",
        "Take one down and pass it around.\n",
        "0 bottles of beer on the wall...\n",
        "\n"
       ]
      }
     ],
     "prompt_number": 64
    },
    {
     "cell_type": "code",
     "collapsed": false,
     "input": [
      "#99 bottles is too much beer for anyone.  Please drink responsibly.\n",
      "\n",
      "#A \"for\" loop executes a chunk of code repeatedly as well, but it does so by working through the items of a suppli"
     ],
     "language": "python",
     "metadata": {},
     "outputs": []
    }
   ],
   "metadata": {}
  }
 ]
}