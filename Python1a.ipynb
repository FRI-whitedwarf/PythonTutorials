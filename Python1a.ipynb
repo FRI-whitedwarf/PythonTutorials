{
 "cells": [
  {
   "cell_type": "markdown",
   "metadata": {},
   "source": [
    "# FRI Introduction to Python 1"
   ]
  },
  {
   "cell_type": "markdown",
   "metadata": {},
   "source": [
    "Python is a general purpose computer language that is very useful for many things, from data analysis and plotting to shell scripting and file management. There’s almost nothing it can’t be made to do! It’s also relatively easy to learn and is a great first language if you aren’t a CS major. If you do any work in the future in a technical field, the odds are that Python will be useful for you.\n",
    "\n",
    "The goals of this first Python lab are to demonstrate the different types of variables available to you, to explore some basic variable manipulation, to see how to import packages and one way to read in a file, and to make a first plot.\n",
    "\n",
    "In general, you can write entire computer programs in Python as files that you call from the command line, but this Jupyter Notebook environment is useful for simple data manipulation projects and prototyping your larger programs.  To use a Jupyter Notebook, enter the code you want to run into a cell, then evalulate that cell by pressing Shift+Return.\n",
    "\n",
    "**HUGELY HELPFUL TIP:** Jupyter Notebooks also importantly allow you to use the \"Tab\" button to auto-complete the names of functions and variables to speed up typing and reduce mistakes.  You can also access a function's help documentation in the Jupyter environment by pressing Shift+Tab after typing the name of the function."
   ]
  },
  {
   "cell_type": "markdown",
   "metadata": {},
   "source": [
    "### Strings"
   ]
  },
  {
   "cell_type": "code",
   "execution_count": null,
   "metadata": {},
   "outputs": [],
   "source": [
    "#Every good programmer should first learn how to greet the world.  \n",
    "#In Python, lines that start with a \"#\" are comments and are\n",
    "#not run as code.  It is good practice to include plenty of comments \n",
    "#to explain what your code is designed to do for readability.\n",
    "\n",
    "#To print something to the screen, use the print function.\n",
    "#A function takes arguments in parentheses.\n",
    "print('Hello world!')"
   ]
  },
  {
   "cell_type": "code",
   "execution_count": null,
   "metadata": {},
   "outputs": [],
   "source": [
    "#Now we're talking.\n",
    "\n",
    "#When programming, there are different types of variables that you can use.  \n",
    "#A chunk of text is called a string.\n",
    "print(type('Hello world!')) #Note embedded functions that are evaluated from the inside out!"
   ]
  },
  {
   "cell_type": "code",
   "execution_count": null,
   "metadata": {},
   "outputs": [],
   "source": [
    "#Strings can also be defined with double quotation marks, \n",
    "#which is useful if there's an apostrophe in the text.\n",
    "print(\"It's my birthday.\")"
   ]
  },
  {
   "cell_type": "code",
   "execution_count": null,
   "metadata": {},
   "outputs": [],
   "source": [
    "#While print commands are needed in standalone python code, \n",
    "#you can also view the contents of a python object in a Jupyter\n",
    "#Notebook without typing \"print.\"\n",
    "'Hello world!'"
   ]
  },
  {
   "cell_type": "code",
   "execution_count": null,
   "metadata": {},
   "outputs": [],
   "source": [
    "#Expressions like this can also be stored in a named variable to be called later.  \n",
    "#Here's an example:\n",
    "greeting = 'Hello world!'\n",
    "print(greeting)"
   ]
  },
  {
   "cell_type": "code",
   "execution_count": null,
   "metadata": {},
   "outputs": [],
   "source": [
    "#Hello, indeed.\n",
    "\n",
    "#Variables are great because they can be referenced again and again \n",
    "#and can be shorthand for a more complicated expression.\n",
    "#Also, as the word \"variable\" suggests, their value can change!\n",
    "print(greeting)\n",
    "greeting = 'Goodbye world.'\n",
    "print(greeting)"
   ]
  },
  {
   "cell_type": "code",
   "execution_count": null,
   "metadata": {},
   "outputs": [],
   "source": [
    "#A string is actually treated much like a list of individual characters.  \n",
    "#This is very useful.\n",
    "greeting = 'Hello world!'\n",
    "\n",
    "#How long is the list of characters?\n",
    "print(len(greeting)) #len() gives the length of a varible. \n",
    "#To see what a function does in Jupyter, type it (e.g. \"len\") and hit Shift+Tab"
   ]
  },
  {
   "cell_type": "code",
   "execution_count": null,
   "metadata": {},
   "outputs": [],
   "source": [
    "#Of these 12 characters, we can view individual ones by calling their indices.\n",
    "#In python counting starts with 0.\n",
    "#Print the first character of greeting.\n",
    "print(greeting[0])"
   ]
  },
  {
   "cell_type": "code",
   "execution_count": null,
   "metadata": {},
   "outputs": [],
   "source": [
    "#We may wish to see the last letter of a string.  \n",
    "#Since counting starts at 0, the last character is at 11.\n",
    "print(greeting[len(greeting)-1])"
   ]
  },
  {
   "cell_type": "code",
   "execution_count": null,
   "metadata": {},
   "outputs": [],
   "source": [
    "#But that's a mounthful.  \n",
    "#Indexing can also run backwards to count from the end of an object.\n",
    "print(greeting[-1])"
   ]
  },
  {
   "cell_type": "code",
   "execution_count": null,
   "metadata": {},
   "outputs": [],
   "source": [
    "#With strings, you can also ask for any range of characters with a colon, \n",
    "#from the number before the colon to the spot immediately before the number \n",
    "#after the colon.\n",
    "print(greeting[0:4])"
   ]
  },
  {
   "cell_type": "code",
   "execution_count": null,
   "metadata": {},
   "outputs": [],
   "source": [
    "#Leaving a number out on one side of the colon assumes the beginning or end of the string\n",
    "print(greeting[:4])\n",
    "print(greeting[4:])"
   ]
  },
  {
   "cell_type": "code",
   "execution_count": null,
   "metadata": {},
   "outputs": [],
   "source": [
    "#There are also specific \"methods\" that work only on strings.  \n",
    "#See what the following examples do:\n",
    "print(greeting)\n",
    "print(greeting.upper())\n",
    "print(greeting.find('wor'))\n",
    "print(greeting.replace('Hello','goodbye'))\n",
    "print(greeting.split(' ')) #Especially useful for dealing with files.  See \"lists\" below.\n",
    "print(greeting.replace('Hello','goodbye').split(' '))"
   ]
  },
  {
   "cell_type": "code",
   "execution_count": null,
   "metadata": {},
   "outputs": [],
   "source": [
    "#Strings can be added together to create longer strings\n",
    "greeting = 'hello ' + 'world'\n",
    "print(greeting)\n",
    "#and multiplied to create much longer strings\n",
    "print(greeting * 4)"
   ]
  },
  {
   "cell_type": "code",
   "execution_count": null,
   "metadata": {},
   "outputs": [],
   "source": [
    "#Finally, formatting is a useful way to customize a general string expression\n",
    "print(\"'{}' is a good first programming phrase.\".format(greeting))"
   ]
  },
  {
   "cell_type": "markdown",
   "metadata": {},
   "source": [
    "### Numbers"
   ]
  },
  {
   "cell_type": "code",
   "execution_count": null,
   "metadata": {},
   "outputs": [],
   "source": [
    "#Alright, so you've mastered Human speech, but what about the Universal language?\n",
    "\n",
    "#It turns out computers are wicked good at math, and that's mostly why we use them \n",
    "#in our research: to store and manipulate a large quantity of numbers.\n",
    "\n",
    "#There are two main types of python numbers: integers (round numbers) \n",
    "#and floats (numbers with decimals).\n",
    "print(type(2))\n",
    "print(type(2.0))"
   ]
  },
  {
   "cell_type": "code",
   "execution_count": null,
   "metadata": {},
   "outputs": [],
   "source": [
    "print(3/2)\n",
    "print(3./2.)"
   ]
  },
  {
   "cell_type": "code",
   "execution_count": null,
   "metadata": {},
   "outputs": [],
   "source": [
    "#Basic built in mathmatical expressions include:\n",
    "#addition\n",
    "print(23+34)\n",
    "#subtraction\n",
    "print(23-34)\n",
    "#multiplication\n",
    "print(23*3.5)\n",
    "#division\n",
    "print(23/3)\n",
    "#modulus (remainder after division)\n",
    "print(23 % 3)\n",
    "#powers\n",
    "print(2**100)"
   ]
  },
  {
   "cell_type": "markdown",
   "metadata": {},
   "source": [
    "### Importing modules"
   ]
  },
  {
   "cell_type": "code",
   "execution_count": null,
   "metadata": {},
   "outputs": [],
   "source": [
    "#More advanced math is possible, but requires you to import additional modules\n",
    "import math\n",
    "print(math.pi)\n",
    "print(math.sqrt(23))"
   ]
  },
  {
   "cell_type": "code",
   "execution_count": null,
   "metadata": {},
   "outputs": [],
   "source": [
    "#There are alternate import syntaxes that you may find helpful\n",
    "import math as m\n",
    "print(m.sqrt(23))\n",
    "\n",
    "#Or\n",
    "from math import sqrt\n",
    "print(sqrt(23))\n",
    "#But beware that this approach may overwrite a local object also called \"sqrt\""
   ]
  },
  {
   "cell_type": "code",
   "execution_count": null,
   "metadata": {},
   "outputs": [],
   "source": [
    "#Python is so powerful mostly because there are so many powerful modules written for it!\n",
    "#Execute this more than once and see how things change!\n",
    "import random\n",
    "print(random.random())\n",
    "print(random.choice([\"pig\",\"dog\",\"cow\",\"chicken\"]))"
   ]
  },
  {
   "cell_type": "markdown",
   "metadata": {},
   "source": [
    "### Lists"
   ]
  },
  {
   "cell_type": "code",
   "execution_count": null,
   "metadata": {},
   "outputs": [],
   "source": [
    "#Uh oh, I let a new kind of python object slip in there: a list!\n",
    "l=[\"pig\",\"dog\",\"cow\",\"chicken\"]\n",
    "print(l)\n",
    "print(type(l))\n",
    "print(len(l))"
   ]
  },
  {
   "cell_type": "code",
   "execution_count": null,
   "metadata": {},
   "outputs": [],
   "source": [
    "#Lists are ordered objects and can be indexed just like strings\n",
    "print(l[1])\n",
    "print(l[:2])\n",
    "print(l[-2])"
   ]
  },
  {
   "cell_type": "code",
   "execution_count": null,
   "metadata": {},
   "outputs": [],
   "source": [
    "#Lists can contain any kind of other object, at the same time!\n",
    "l=[1,'pig',3.2]\n",
    "print(l)\n",
    "print(len(l))"
   ]
  },
  {
   "cell_type": "code",
   "execution_count": null,
   "metadata": {},
   "outputs": [],
   "source": [
    "#Lists can have items added to them\n",
    "l.append('appended item')\n",
    "print(l)"
   ]
  },
  {
   "cell_type": "code",
   "execution_count": null,
   "metadata": {},
   "outputs": [],
   "source": [
    "#And items can be popped out from any location\n",
    "print(l.pop(1))\n",
    "print(l)"
   ]
  },
  {
   "cell_type": "code",
   "execution_count": null,
   "metadata": {},
   "outputs": [],
   "source": [
    "#a useful type of list is a list of increasing numbers\n",
    "numbers = range(10)\n",
    "print(numbers, type(numbers))"
   ]
  },
  {
   "cell_type": "code",
   "execution_count": null,
   "metadata": {},
   "outputs": [],
   "source": [
    "#Lists can be conveniently sorted.\n",
    "rand = [random.random(),random.random(),random.random(),random.random()]\n",
    "print(rand)\n",
    "rand.sort()\n",
    "print(rand)"
   ]
  },
  {
   "cell_type": "markdown",
   "metadata": {},
   "source": [
    "### NumPy arrays"
   ]
  },
  {
   "cell_type": "code",
   "execution_count": null,
   "metadata": {},
   "outputs": [],
   "source": [
    "#An object quite similar to a list is a NumPy array, but NumPy arrays \n",
    "#hold advantages for astronomical data in many situations because of \n",
    "#the way that the can be added, multiplied, etc.\n",
    "\n",
    "#For example, with lists:\n",
    "lista=[1,2,3,4]\n",
    "listb=[4,4,4,4]\n",
    "print(lista+listb)"
   ]
  },
  {
   "cell_type": "code",
   "execution_count": null,
   "metadata": {},
   "outputs": [],
   "source": [
    "#But if we import the NumPy module and cast these lists as Numpy arrays:\n",
    "import numpy as np\n",
    "arraya = np.array(lista,float) #with type specified\n",
    "print(arraya)\n",
    "arrayb = np.array(listb,float)\n",
    "print(arrayb)\n",
    "arrayc = arraya+arrayb\n",
    "print(arrayc)"
   ]
  },
  {
   "cell_type": "code",
   "execution_count": null,
   "metadata": {},
   "outputs": [],
   "source": [
    "#There are so many powerful ways to manipulate NumPy arrays that we can \n",
    "#only briefly demonstrate a couple here now, but if you think of something \n",
    "#you'd like to do with an array here that isn't mentioned, Google it!\n",
    "#There is a wealth of useful resources for learning how to do things in \n",
    "#Python on the Internet.\n",
    "print(arrayc.shape)\n",
    "print(arrayc.sum())\n",
    "print(arrayc.mean())\n",
    "print(np.sqrt(arrayc))"
   ]
  },
  {
   "cell_type": "code",
   "execution_count": null,
   "metadata": {},
   "outputs": [],
   "source": [
    "#Arrays can be created from lists, as shown above, or generated directly:\n",
    "\n",
    "#spanning a given range of values\n",
    "print(np.arange(9))\n",
    "print(np.arange(9,dtype=float))\n",
    "print(np.arange(2,9,dtype=float))\n",
    "print(np.arange(2,9,2,dtype=float)) #by 2s\n",
    "\n",
    "#or not:\n",
    "print(np.zeros(10))\n",
    "print(np.ones(12))\n",
    "print(np.random.rand(4))"
   ]
  },
  {
   "cell_type": "code",
   "execution_count": null,
   "metadata": {},
   "outputs": [],
   "source": [
    "#And NumPy arrays do not have to be one-dimensional!\n",
    "print(np.random.rand(3,5))\n",
    "print(np.zeros((3,5)))\n",
    "array2d = np.array([[1,2,3,4],[5,6,7,8]])\n",
    "\n",
    "#These are really more like multi-dimensional arrays, rather than nested lists that can be lists of lists\n",
    "print([[1,2,3,4],[5,6,7,8]])"
   ]
  },
  {
   "cell_type": "code",
   "execution_count": null,
   "metadata": {},
   "outputs": [],
   "source": [
    "#Values at desired locations in a NumPy array can be accessed and changed as follows\n",
    "#For 1D arrays\n",
    "print(arraya)\n",
    "print(arraya[2])\n",
    "arraya[2]=19 #change an entry\n",
    "print(arraya)\n",
    "\n",
    "#For 2D arrays\n",
    "print(array2d)\n",
    "print(array2d[0]) #select a row\n",
    "print(array2d[:,2]) #select a column\n",
    "array2d[0]=array2d[0]**3. #change a row\n",
    "print(array2d)"
   ]
  },
  {
   "cell_type": "markdown",
   "metadata": {},
   "source": [
    "### Reading in files"
   ]
  },
  {
   "cell_type": "code",
   "execution_count": null,
   "metadata": {},
   "outputs": [],
   "source": [
    "#Importantly for your project purposes, the NumPy module also has a feature that \n",
    "#lets you trivially import data from a file into a NumPy array\n",
    "exampledata = np.loadtxt('exampledata.txt',skiprows=1) #filename is a string\n",
    "print(exampledata)"
   ]
  },
  {
   "cell_type": "markdown",
   "metadata": {},
   "source": [
    "### Simple plotting"
   ]
  },
  {
   "cell_type": "code",
   "execution_count": null,
   "metadata": {},
   "outputs": [],
   "source": [
    "#It is essential for the scientist to be able to communicate their data \n",
    "#and results effectively to their audience, and Python has multiple options \n",
    "#for plotting modules, with matplotlib being the most widely used today.\n",
    "import matplotlib.pyplot as plt\n",
    "#the next line tells Jupyter to disply the plots in the Notebook!\n",
    "%matplotlib inline\n",
    "\n",
    "x = np.arange(50)\n",
    "y = np.random.rand(50)\n",
    "\n",
    "plt.figure()\n",
    "plt.plot(x,y)\n",
    "plt.xlabel('x axis')\n",
    "plt.ylabel('random values')\n",
    "plt.title('title')\n",
    "plt.show()"
   ]
  },
  {
   "cell_type": "code",
   "execution_count": null,
   "metadata": {},
   "outputs": [],
   "source": [
    "#These plots are highly customizable\n",
    "plt.figure()\n",
    "plt.plot(x,y,'rs') #r for red; s for 'square' symbol; see help (shift+tab) for more options\n",
    "plt.xlabel('x axis')\n",
    "plt.ylabel('random values')\n",
    "plt.title('title')\n",
    "#plt.show()"
   ]
  },
  {
   "cell_type": "code",
   "execution_count": null,
   "metadata": {},
   "outputs": [],
   "source": [
    "#...and can even get quite fancy\n",
    "fig = plt.figure()\n",
    "\n",
    "axes1 = fig.add_axes([0.1, 0.1, 0.8, 0.8]) # main axes\n",
    "axes2 = fig.add_axes([0.2, 0.3, 0.3, 0.5]) # inset axes\n",
    "\n",
    "# main figure\n",
    "axes1.plot(x, y, 'ro')\n",
    "axes1.set_xlabel('x')\n",
    "axes1.set_ylabel('y')\n",
    "axes1.set_title('these plots are nonsense');\n",
    "\n",
    "# insert\n",
    "axes2.plot(y, x, 'g--')\n",
    "axes2.set_xlabel('y')\n",
    "axes2.set_ylabel('x')\n",
    "axes2.set_title('this plot is in the other!');\n",
    "\n",
    "plt.show()"
   ]
  },
  {
   "cell_type": "code",
   "execution_count": null,
   "metadata": {},
   "outputs": [],
   "source": [
    "#Finally, it's easy to save a copy of the plot.  \n",
    "#You just have to do it before you call the show() command!\n",
    "fig = plt.figure()\n",
    "\n",
    "axes1 = fig.add_axes([0.1, 0.1, 0.8, 0.8]) # main axes\n",
    "axes2 = fig.add_axes([0.2, 0.3, 0.3, 0.5]) # inset axes\n",
    "\n",
    "# main figure\n",
    "axes1.plot(x, y, 'ro')\n",
    "axes1.set_xlabel('x')\n",
    "axes1.set_ylabel('y')\n",
    "axes1.set_title('these plots are nonsense');\n",
    "\n",
    "# insert\n",
    "axes2.plot(y, x, 'g--')\n",
    "axes2.set_xlabel('y')\n",
    "axes2.set_ylabel('x')\n",
    "axes2.set_title('this plot is in the other!');\n",
    "\n",
    "plt.savefig('randomplot.pdf')\n",
    "plt.show()"
   ]
  },
  {
   "cell_type": "markdown",
   "metadata": {},
   "source": [
    "### Good work!"
   ]
  },
  {
   "cell_type": "markdown",
   "metadata": {},
   "source": [
    "You are now familiar with a very most basic aspects of the Python programming language.  You can build on this foundation to make your computer do virtually anything that a computer can.\n",
    "\n",
    "Practice some of the above commands in a Jupyter Notebook of your own.  Explore possible commands with auto-complete (Tab) and by reading documentation (Shift+Tab).  Want to do something with Python but not sure how?  Google it!  There are tons of useful references out there.  That's how everybody learns Python.\n",
    "\n",
    "Next week we will take a look at some more advanced features, including conditional statements, for loops, and functions.  You will see then how Python uses spaces at the beginning of certain lines to keep track of the relation between different lines of code.  For now we've limited ourselves to pretty simple commands, so keep your code left-justified for the time being and you'll do fine."
   ]
  }
 ],
 "metadata": {
  "kernelspec": {
   "display_name": "Python 3",
   "language": "python",
   "name": "python3"
  },
  "language_info": {
   "codemirror_mode": {
    "name": "ipython",
    "version": 3
   },
   "file_extension": ".py",
   "mimetype": "text/x-python",
   "name": "python",
   "nbconvert_exporter": "python",
   "pygments_lexer": "ipython3",
   "version": "3.6.5"
  }
 },
 "nbformat": 4,
 "nbformat_minor": 1
}
