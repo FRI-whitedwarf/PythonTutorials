{
 "cells": [
  {
   "cell_type": "markdown",
   "metadata": {
    "id": "tAKacZGW1_ke"
   },
   "source": []
  },
  {
   "cell_type": "markdown",
   "metadata": {
    "id": "k5uKJPll1_kj"
   },
   "source": [
    "#### *Disclaimer: much of this notebook is inspired from or draws directly from [work written by Peter Smith](https://github.com/petercbsmith/ASA-Python-2020) for a workshop hosted by the Astronomy Students Association in January 2020*\n",
    "\n",
    "#### Authors: Peter Smith, Joesph Guidry, Amaya Sinha"
   ]
  },
  {
   "cell_type": "markdown",
   "metadata": {
    "id": "dgZ-CEPI1_kk"
   },
   "source": [
    "# Part I: What even is Python?"
   ]
  },
  {
   "cell_type": "markdown",
   "metadata": {
    "id": "OnLcXCVG1_kk"
   },
   "source": [
    "Python is a programming language that we astronomers have adopted into our livelihoods. The challenge in learning Python (and all of programming really) is to translate your intentions (human language) into logic and syntax the computer understands. **It is totally analogous to learning a new language.** Fortunately, Python helps us out because it is designed to be readable. This means that each line of code you write is readable like a sentence or mathematical expression that both we and the computer can understand. Another reason astronomers like Python is because it is very robust for our needs. It's great at doing math (physics!), reading and writing our data files (which can be huuuuuge sometimes), and displaying our data and results in cute & pretty plots. So let's dig into how Python works.\n",
    "\n",
    "Normally in this course we would be able to help you in person in the computer lab during your assignments. However because of... y'know, we've built this notebook to give you a crashcourse on the basics of Python. This is by no means a comprehensive education on programming and you WILL need to continue learning as you go on but it should give you a solid enough basis to not get wiped out by our assignments at the start. \n",
    "\n",
    "But don't worry, as you get further in your career you'll slowly get better. Most students come in with zero coding background at all so we'll do our best to make sure you're well prepared. For students who have taken a CS class before, this will all be a review however I encourage you to still look through it as a refresher. For those students who have taken AP Computer Science, that goes doubly for you as Python is similar to Java but there are some key differences you need to be aware of.\n",
    "\n",
    "Python accomplishes tasks using a few fundamental building blocks of the language:\n",
    "* **Integers (*int*)** - Integers are just whole numbers, 1, 1637, -52, etc.\n",
    "* **Floats (*float*)** - Floats are more exact than integers. For example, 1.0 is a float whereas 1 is an ineger\n",
    "* **Strings (*str*)** - These are basically words and letters, and are distinguished and created by quotation marks, either double quotes or single quotes, i.e. ```\"this is a string\"``` or ```'this is also a string'```.\n",
    "    * The decision to use single vs. double quotes is mainly personal preference, but if you want to make a string that contains an apostrophe (a single quote marker) you must enclose the string in double quotes\n",
    "    * Note that numbers can be represented as strings too: \"1\" is a string, not an integer, but this is not useful for matematical calculations...\n",
    "\n",
    "Python then works by ordering these floats, ints, and strings with commands. So let's do it! :)"
   ]
  },
  {
   "cell_type": "markdown",
   "metadata": {
    "id": "C2O_tdbB1_kl"
   },
   "source": [
    "# Part II: The fun part.... actually coding"
   ]
  },
  {
   "cell_type": "markdown",
   "metadata": {
    "id": "bJbDzaRx1_kl"
   },
   "source": [
    "## Basics and Printing\n",
    "\n",
    "Python is very powerful in that you can define your own **functions**, but it also has its own built in functions that don't require you to define anything. One of these is ```print```, probably the most useful function ever.\n",
    "\n",
    "Run the cell below and see what the ```print``` function does:"
   ]
  },
  {
   "cell_type": "code",
   "execution_count": null,
   "metadata": {
    "id": "HEB6YPSL1_km"
   },
   "outputs": [],
   "source": [
    "print('Hello World!')"
   ]
  },
  {
   "cell_type": "markdown",
   "metadata": {
    "id": "yICm6O8P1_km"
   },
   "source": [
    "In this case, the argument of the ```print``` function was the phrase ```'Hello World!'```, and the output was the argument, printed so you can read it.\n",
    "\n",
    "Another useful function is ```len```:"
   ]
  },
  {
   "cell_type": "code",
   "execution_count": null,
   "metadata": {
    "id": "8W_OUESa1_km"
   },
   "outputs": [],
   "source": [
    "len('Hello World!')"
   ]
  },
  {
   "cell_type": "markdown",
   "metadata": {
    "id": "GDTcnlxk1_kn"
   },
   "source": [
    "Do you notice how ```print``` and ```len``` are green? And how 'Hello World!' is in red? This is another way Python helps us out in writing code. Special built-in functions like ```print``` and other important Python words will always be green, while strings will always be red. Just a helpful fun fact!\n",
    "```python\n",
    "# Notice how I can also writes words like this in the code cell that are teal? This is because I am writing a \n",
    "# comment. When the computer see the # sign, it skips over whatever follows. These are super useful for helping \n",
    "# humans, ESPECIALLY YOURSELF, in understanding what certains lines of code are doing.\n",
    "# Anyway, if I write x = 5 in a comment like this, the computer will ignore that line.\n",
    "```"
   ]
  },
  {
   "cell_type": "markdown",
   "metadata": {
    "id": "yQu34OHU1_kn"
   },
   "source": [
    "Anyway, now say we want to store a number, or value as a variable (which will be 90% of your life moving forward). How do we do that?\n",
    "\n",
    "As stated above, we can use the = sign."
   ]
  },
  {
   "cell_type": "code",
   "execution_count": null,
   "metadata": {
    "id": "FioBgq2b1_kn"
   },
   "outputs": [],
   "source": [
    "#for example, say we want to store the number 5.\n",
    "x = 5\n",
    "#now we check that it's saved with a print statement\n",
    "print(x)"
   ]
  },
  {
   "cell_type": "markdown",
   "metadata": {
    "id": "F-ICr9Mp1_kn"
   },
   "source": [
    "Now lets make another variable and add it to x. This is what is called \"calling a variable\" because you're telling the computer to access it and use it in a different place, as opposed to rewriting the exct value out each time. Since we previously executed the command\n",
    "```python\n",
    "x = 5\n",
    "```\n",
    "the computer will remember that x is eqaul to 5.\n",
    "\n",
    "It's similar to how in your physics/math hw you generally keep all your equations as variables until the last step. Just like doing that allows you to better trace your work and reuse it for later problems, that mindset here creates far more flexible and usable code."
   ]
  },
  {
   "cell_type": "code",
   "execution_count": null,
   "metadata": {
    "id": "mBlZTd-u1_ko"
   },
   "outputs": [],
   "source": [
    "y = 6\n",
    "#now we call x\n",
    "z = y + x\n",
    "print(z)"
   ]
  },
  {
   "cell_type": "markdown",
   "metadata": {
    "id": "rXqpLRfX1_ko"
   },
   "source": [
    "### Lists\n",
    "Lists are one of the most common and versatile data structures for storing information in python. This is due to the fact that they are very flexible with the types of information they can hold: they can hold strings, floats, and integers. You can even build more complex structures such as lists of lists (commonly referred to as 2d, 3d, etc. lists).\n",
    "\n",
    "Each list is made up of different compartments called indices. While there are more technical definitions, for your purpose all you need to know is an indice is basically just an empty space in the list where you can store $\\texttt{something}$ (like vectors and matrices!)\n",
    "\n",
    "One important note is that normally we as humans count from 1,2,3,4....n. **In python, all data structures start counting their indices at 0, then 1, then 2, etc...** This will be important when we move into traversing lists and using loops."
   ]
  },
  {
   "cell_type": "markdown",
   "metadata": {
    "id": "dUkC-pic1_ko"
   },
   "source": [
    "So how do we create a list? Lets get into that."
   ]
  },
  {
   "cell_type": "code",
   "execution_count": null,
   "metadata": {
    "id": "ZCexzzYi1_kp"
   },
   "outputs": [],
   "source": [
    "#these hard brackets denote a List object in python. Here they are empty so there is nothing in the list.\n",
    "list_example1 = []\n",
    "#now you can see I'v filled this list with numbers.\n",
    "list_example2 = [1,2,3,4,5]\n",
    "#and words\n",
    "list_example3 = ['hook','em','horns']\n",
    "\n",
    "print(list_example1)\n",
    "print(list_example2)\n",
    "print(list_example3)"
   ]
  },
  {
   "cell_type": "markdown",
   "metadata": {
    "id": "EGSQKUJ-1_kp"
   },
   "source": [
    "As before, we can use the $\\texttt{len}$ function, which as you might have guessed, returns the length of the argument, or how many elements are in it. In this case, we've learned that the phrase 'Hello World! has 12 characters. This can also be applied to $\\textbf{lists}$ of numbers:"
   ]
  },
  {
   "cell_type": "code",
   "execution_count": null,
   "metadata": {
    "id": "FQ2eBqRi1_kp"
   },
   "outputs": [],
   "source": [
    "len([0,1,2,3,4,5,6,7,8,9,10])"
   ]
  },
  {
   "cell_type": "markdown",
   "metadata": {
    "id": "17mo6ewV1_kp"
   },
   "source": [
    "Lists are exactly what you think they are. They are within square brackets, and their elements are separated by commas.\n",
    "\n",
    "You can also use the $\\texttt{list}$ function to create lists:"
   ]
  },
  {
   "cell_type": "code",
   "execution_count": null,
   "metadata": {
    "id": "XW8nVlbb1_kp"
   },
   "outputs": [],
   "source": [
    "print(list((0,1,2,3,4,5,6,7,8,9,10)))"
   ]
  },
  {
   "cell_type": "markdown",
   "metadata": {
    "id": "M_TxXRdp1_kq"
   },
   "source": [
    "When dealing with numbers, $\\texttt{min}$ and $\\texttt{max}$ are also useful functions:"
   ]
  },
  {
   "cell_type": "code",
   "execution_count": null,
   "metadata": {
    "id": "ZpzTXXqZ1_kq"
   },
   "outputs": [],
   "source": [
    "print(min([0,1,2,3,4,5,6,7,8,9,10]))\n",
    "print(max([0,1,2,3,4,5,6,7,8,9,10]))"
   ]
  },
  {
   "cell_type": "markdown",
   "metadata": {
    "id": "-TysHDmh1_kq"
   },
   "source": [
    "So we know how to pull the minimum and maximum indices out of a list but how can we properly traverse a list to pull any value contained within? Well we can use the indice value.\n",
    "\n",
    "Now here is a very important distinction to remember for the rest of your life (only semi joking): a list is made up of indices, and each indices CONTAINS an element. These are not the same thing, think of it like an address. You (the element), live at an address (the indice), on a street (the list). It doesn't make sense to say you are your address right or vice versa? Same thing here."
   ]
  },
  {
   "cell_type": "code",
   "execution_count": null,
   "metadata": {
    "id": "l1oSmnOT1_kq"
   },
   "outputs": [],
   "source": [
    "#to get back a value within a list you place its indice value within the brackets when you call the list.\n",
    "\n",
    "traverse_test1 = list_example2 #this calls the entire list\n",
    "print(traverse_test1)\n",
    "\n",
    "traverse_test2 = list_example2[0] #this calls ONLY the zeroth indice and therefore the first element of the list\n",
    "print(traverse_test2)"
   ]
  },
  {
   "cell_type": "markdown",
   "metadata": {
    "id": "qCAFSr8T1_kq"
   },
   "source": [
    "Yet another built in function I use all the time is $\\texttt{range}$. Given two arguments, it returns a range of integers with a step size of 1 beginning at the first argument and ending at the number before the second. That is, the range is not inclusive of the second argument. This will come back later when we work more with lists again.\n",
    "\n",
    "So for example, to return the same numbers as the list we're working with, I need only type:"
   ]
  },
  {
   "cell_type": "code",
   "execution_count": null,
   "metadata": {
    "id": "hBXdI33Z1_kr"
   },
   "outputs": [],
   "source": [
    "list(range(0,11))"
   ]
  },
  {
   "cell_type": "markdown",
   "metadata": {
    "id": "mp4wEVGn1_kr"
   },
   "source": [
    "In fact, if I know I will be starting from 0, I only need to give the top number:"
   ]
  },
  {
   "cell_type": "code",
   "execution_count": null,
   "metadata": {
    "id": "zRsRWAg11_kr"
   },
   "outputs": [],
   "source": [
    "list(range(11))"
   ]
  },
  {
   "cell_type": "markdown",
   "metadata": {
    "id": "wCRwIzzx1_kr"
   },
   "source": [
    "By default, Python and the other morally superior coding languages begin at 0 rather than 1 when making lists of numbers or indexing (something we will get into soon).\n",
    "\n",
    "Notice how below, the argument is 11, but the min and max of the range are the same before because it stars at 0 and ends at 10."
   ]
  },
  {
   "cell_type": "code",
   "execution_count": null,
   "metadata": {
    "id": "BWGUbCAq1_kr"
   },
   "outputs": [],
   "source": [
    "print(min(range(11)),max(range(11)))"
   ]
  },
  {
   "cell_type": "markdown",
   "metadata": {
    "id": "5DQHbzaD1_ks"
   },
   "source": [
    "And if I want a step size other than one, $\\texttt{range}$ can take that as a third argument:"
   ]
  },
  {
   "cell_type": "code",
   "execution_count": null,
   "metadata": {
    "id": "0Tl2H0ua1_ks"
   },
   "outputs": [],
   "source": [
    "list(range(0,11,2))"
   ]
  },
  {
   "cell_type": "markdown",
   "metadata": {
    "id": "FgfywvZz1_ks"
   },
   "source": [
    "Now, its really getting tedious to keep typing out these things. Luckily, in Python, you can also define **variables**. These serve as place holders for your data and make your life much easier. To set a variable, just type the variable name, =, and its value:"
   ]
  },
  {
   "cell_type": "code",
   "execution_count": null,
   "metadata": {
    "id": "lBqzIgL-1_ks"
   },
   "outputs": [],
   "source": [
    "s = 'Hello World!'\n",
    "l = range(11)"
   ]
  },
  {
   "cell_type": "markdown",
   "metadata": {
    "id": "hmNSvQwa1_ks"
   },
   "source": [
    "### Practice\n",
    "In the cell below, \n",
    "\n",
    "1. Create a variable that stores a phrase, then print it.\n",
    "2. Add or subtract two numbers that are saved as variables.\n",
    "3. Create a list at least 3 long and fill it with whatever numbers you want.\n",
    "4. use Python's built in functions to print both the length of your phrase and the list above.\n",
    "5. Find the minimum, maximum, and 3rd element in the list."
   ]
  },
  {
   "cell_type": "code",
   "execution_count": null,
   "metadata": {
    "id": "u4X5-7Wx1_ks"
   },
   "outputs": [],
   "source": []
  },
  {
   "cell_type": "markdown",
   "metadata": {
    "id": "yDkzKgA61_kt"
   },
   "source": [
    "### Functions\n",
    "\n",
    "Just as in math irl, a function in Python is something that gives you an output based on an input. You've probably most commonly seen them of the form:\n",
    "\n",
    "$f(x) = y$\n",
    "\n",
    "an efficient way of telling you that $y$ is the output of the function $f$, given the input $x$.\n",
    "\n",
    "Let's jump back to a past examples. In the case of\n",
    "```python\n",
    "print('Hello World!')\n",
    "```\n",
    "print is f, the function, and the string ```'Hello World!'``` is our argument, x. print then spits out ```Hello World!```, the y in this case.\n",
    "\n",
    "So Python is convenient in that its functions take the same form $f(x) = y$. To **call** a function, or to tell Python to do it, you simply write the function name followed by your input, or the **argument** of the function, enclosed by parentheses.\n",
    "\n",
    "Let's start by **defining** a new function using the ```def``` keyword:"
   ]
  },
  {
   "cell_type": "code",
   "execution_count": null,
   "metadata": {
    "id": "kAbQYmzN1_kt"
   },
   "outputs": [],
   "source": [
    "def function(x,y):\n",
    "    print(x,y)"
   ]
  },
  {
   "cell_type": "markdown",
   "metadata": {
    "id": "_zZH8ADy1_kt"
   },
   "source": [
    "Notice how after the colon, I've started a new line and indented. In Python, indentation and spaces matter a lot and take the place of curly brackets and other things in different languages. Or like how punctuaion matters a lot in human language.\n",
    "\n",
    "After defining a function, I can simply call it just like I would with the built in functions. Notice that because I placed a print statement within the function, when I call the function my two inputs will be printed and I won't have to exlicitly say ```print(function(x,y))```."
   ]
  },
  {
   "cell_type": "code",
   "execution_count": null,
   "metadata": {
    "id": "abaLSEXN1_kt"
   },
   "outputs": [],
   "source": [
    "function(s,l)"
   ]
  },
  {
   "cell_type": "markdown",
   "metadata": {
    "id": "zi_DAu5n1_kt"
   },
   "source": [
    "If we want a function to return an output, we have to place ```return``` and then define what we want the output to be. So, for example, $f(x,y) = x + y$ in Python looks like:"
   ]
  },
  {
   "cell_type": "code",
   "execution_count": null,
   "metadata": {
    "id": "hFXOcOq41_kt"
   },
   "outputs": [],
   "source": [
    "def function2(x,y):\n",
    "    return x + y\n",
    "\n",
    "function2(2,2)"
   ]
  },
  {
   "cell_type": "markdown",
   "metadata": {
    "id": "lVOgFgA91_kt"
   },
   "source": [
    "Functions may seem redundant now but as you begin the labs we assign you, as well as any other research code you may need to to you'll find they're very important to the efficency and usability of your code. \n",
    "\n",
    "For example, in the examples above it may seem a little silly to define a whole new function just to add two numbers but as stated earlier, a function is only limited in its use by your own imagination and requirements. What would happen if I needed to sum together a set of lists, or search through a large data table for specific values? I could write the code for it each time, or I could define a function and reuse it each time we needed it. Again, it's the programming equivelant of deriving an equation in general terms first, then plugging in numbers."
   ]
  },
  {
   "cell_type": "markdown",
   "metadata": {
    "id": "4lqhWmhh1_kt"
   },
   "source": [
    "### Practice\n",
    "In the cell below, define a function that takes two arguments - both integers. It should print a list beginning at the greater of the two numbers, then every integer between that and the lesser with a step size of 5."
   ]
  },
  {
   "cell_type": "code",
   "execution_count": null,
   "metadata": {
    "id": "elP8UcPs1_ku"
   },
   "outputs": [],
   "source": []
  },
  {
   "cell_type": "markdown",
   "metadata": {
    "id": "TnX0w4X71_ku"
   },
   "source": [
    "## Data - types and basic operations"
   ]
  },
  {
   "cell_type": "markdown",
   "metadata": {
    "id": "gQs9apdA1_ku"
   },
   "source": [
    "Let's define some more variables to work with:"
   ]
  },
  {
   "cell_type": "code",
   "execution_count": null,
   "metadata": {
    "id": "I3ztGaUj1_ku"
   },
   "outputs": [],
   "source": [
    "a = 42 #Numbers without decimals are integers\n",
    "b = 10.0 #Numbers with decimals are floats\n",
    "c = '24' #anything querty is called a char or character\n",
    "d = True #True/False are called booleans (or truth statements.)"
   ]
  },
  {
   "cell_type": "markdown",
   "metadata": {
    "id": "JZBkPXcw1_ku"
   },
   "source": [
    "Cool. Now lets go over all the crazy things we can do with these!\n",
    "\n",
    "Most of the basic arithmetic we can do in Python is pretty intuitive:"
   ]
  },
  {
   "cell_type": "code",
   "execution_count": null,
   "metadata": {
    "id": "qa6doGjg1_ku"
   },
   "outputs": [],
   "source": [
    "2 + 4"
   ]
  },
  {
   "cell_type": "code",
   "execution_count": null,
   "metadata": {
    "id": "0a1oa2se1_ku"
   },
   "outputs": [],
   "source": [
    "72 - 86"
   ]
  },
  {
   "cell_type": "code",
   "execution_count": null,
   "metadata": {
    "id": "-Lgf8kOp1_kv"
   },
   "outputs": [],
   "source": [
    "3 * 4"
   ]
  },
  {
   "cell_type": "code",
   "execution_count": null,
   "metadata": {
    "id": "Hw5I3TgR1_kv"
   },
   "outputs": [],
   "source": [
    "10 / 2"
   ]
  },
  {
   "cell_type": "markdown",
   "metadata": {
    "id": "piKr9O3n1_kv"
   },
   "source": [
    "You might think exponents would be $\\texttt{^}$, but instead in Python we use $\\texttt{**}$"
   ]
  },
  {
   "cell_type": "code",
   "execution_count": null,
   "metadata": {
    "id": "DLIEKGi41_kv"
   },
   "outputs": [],
   "source": [
    "10**2"
   ]
  },
  {
   "cell_type": "markdown",
   "metadata": {
    "id": "2tmxFau_1_kv"
   },
   "source": [
    "So, just like in math, we have all these operators.\n",
    "* $= \\,$ : the eqauls operator (used to define variables)\n",
    "* $+ \\,$ : the addition operator\n",
    "* $- \\,$ : the subtraction operator\n",
    "* $* \\,\\,$ : the multiplication operator\n",
    "* / $\\,\\,$ : the division operator\n",
    "* ** $\\,$ : the exponentiation operator\n",
    "\n",
    "There are plenty of others, but this all you need for good ol' quick maths."
   ]
  },
  {
   "cell_type": "markdown",
   "metadata": {
    "id": "S819h5W31_kv"
   },
   "source": [
    "You can of course use math when defining variables:"
   ]
  },
  {
   "cell_type": "code",
   "execution_count": null,
   "metadata": {
    "id": "IMyzmJAP1_kv"
   },
   "outputs": [],
   "source": [
    "d = a + 8\n",
    "print(d)"
   ]
  },
  {
   "cell_type": "markdown",
   "metadata": {
    "id": "zt-QisoI1_kw"
   },
   "source": [
    "Something that's neat you can do but also need to be careful about is changing variables by doing operations on them:"
   ]
  },
  {
   "cell_type": "code",
   "execution_count": null,
   "metadata": {
    "id": "-0ydDELQ1_kw"
   },
   "outputs": [],
   "source": [
    "d = 50\n",
    "print(d)\n",
    "d = d + 5\n",
    "print(d)\n",
    "d += 5\n",
    "print(d)"
   ]
  },
  {
   "cell_type": "markdown",
   "metadata": {
    "id": "uCWsaBat1_kw"
   },
   "source": [
    "Use the cell below to do some basic operations with our new variables $\\texttt{a}$, $\\texttt{b}$, and $\\texttt{c}$."
   ]
  },
  {
   "cell_type": "code",
   "execution_count": null,
   "metadata": {
    "id": "AILbY_Sa1_kw"
   },
   "outputs": [],
   "source": []
  },
  {
   "cell_type": "markdown",
   "metadata": {
    "id": "wqiLsXya1_kw"
   },
   "source": [
    "As you might of noticed, some numbers are green and some are red, and Python won't let them all work together!! This is because each of these variables are of different ```type```!! \n",
    "\n",
    "In the cell below, use the function ```type()``` on each of our variables to see what type they are:"
   ]
  },
  {
   "cell_type": "code",
   "execution_count": null,
   "metadata": {
    "id": "IpiBzm7Z1_kw"
   },
   "outputs": [],
   "source": []
  },
  {
   "cell_type": "markdown",
   "metadata": {
    "id": "THAMIpXn1_kw"
   },
   "source": [
    "You should have discovered the three types of data we mentioned earlier: **int**, **float**, and **str**. Ints and floats usually work fine together (although not all the time!), but both of these have problems working with strings. That's okay though! We can use the ```int()```, ```float()```, and ```str()``` functions to change the type of our objects.\n",
    "\n",
    "In the cell below, change the type of ```c``` so that we can do mathematical operations with it on the other variables. Print ```a + c```"
   ]
  },
  {
   "cell_type": "code",
   "execution_count": null,
   "metadata": {
    "id": "1e4gu5PR1_kx"
   },
   "outputs": [],
   "source": []
  },
  {
   "cell_type": "markdown",
   "metadata": {
    "id": "OuQZufLe1_kx"
   },
   "source": [
    "As far as formatting is concerned, we don't have to worry much when typing or defining ints and floats. However, to define strings, we have to enclose them in quotation marks. It doesn't matter whether you use single or double. The neat thing about strings is that we can multiply them by ints, or add them to other strings:"
   ]
  },
  {
   "cell_type": "code",
   "execution_count": null,
   "metadata": {
    "id": "YO5jOl0N1_kx"
   },
   "outputs": [],
   "source": [
    "print('Yikes' * 5)\n",
    "print('Put two ' + 'and two ' + 'together')"
   ]
  },
  {
   "cell_type": "markdown",
   "metadata": {
    "id": "anok2s4y1_kx"
   },
   "source": [
    "### Practice\n",
    "Define a function below that takes two arguments - one, a string, the other an int. If you input a person's name (string) and age (int), the function will print $\\texttt{[Name] is [age] years old.}$"
   ]
  },
  {
   "cell_type": "code",
   "execution_count": null,
   "metadata": {
    "id": "0AW80FMM1_kx"
   },
   "outputs": [],
   "source": []
  },
  {
   "cell_type": "markdown",
   "metadata": {
    "id": "p73jkktq1_ky"
   },
   "source": [
    "### Booleans"
   ]
  },
  {
   "cell_type": "markdown",
   "metadata": {
    "id": "yyqxdrAY1_ky"
   },
   "source": [
    "In addition to basic arithmetic, Python can do **boolean logic**. To check if a variable is equivalent to something, we use a double equals sign. If the two objects are equal, Python will return the boolean```True```. If not, it will return the boolean ```False```. \n",
    "\n",
    "These create the foundations for what we call logic gates in programming, basically the equivelant of a crossroads that the computer can interpret (if you've played Minecraft its the same concept as redstone). \n",
    "\n",
    "There are four types of equalities when it comes to logic gates\n",
    "1. Equals: ==\n",
    "2. Less Than/Less Than or Equals to: < & <=\n",
    "3. Greater Than/Greater Than or Equals to: > & >=\n",
    "4. Does Not Equal: !=\n"
   ]
  },
  {
   "cell_type": "code",
   "execution_count": null,
   "metadata": {
    "id": "hLW6JiKm1_ky"
   },
   "outputs": [],
   "source": [
    "a == 42"
   ]
  },
  {
   "cell_type": "code",
   "execution_count": null,
   "metadata": {
    "id": "KhjdD06Y1_ky"
   },
   "outputs": [],
   "source": [
    "a == 37"
   ]
  },
  {
   "cell_type": "markdown",
   "metadata": {
    "id": "hQ8kKRrx1_ky"
   },
   "source": [
    "There are other logic operations that you can do that are intuititve:"
   ]
  },
  {
   "cell_type": "code",
   "execution_count": null,
   "metadata": {
    "id": "VU6C-qY91_ky"
   },
   "outputs": [],
   "source": [
    "15 > 10"
   ]
  },
  {
   "cell_type": "code",
   "execution_count": null,
   "metadata": {
    "id": "pb_Gh7Q31_ky"
   },
   "outputs": [],
   "source": [
    "5 <= 7"
   ]
  },
  {
   "cell_type": "code",
   "execution_count": null,
   "metadata": {
    "id": "6I8JZBEW1_ky"
   },
   "outputs": [],
   "source": [
    "3 >= 5"
   ]
  },
  {
   "cell_type": "markdown",
   "metadata": {
    "id": "VBPVVm5A1_kz"
   },
   "source": [
    "You can also use ```and``` statements and ```or``` statements. \n",
    "\n",
    "For ```and``` statements, both statements must be true in order to return ```True```. Otherwise, it will return ```False```.\n",
    "\n",
    "For ```or``` statements, only one or both statements must be true in order to return ```True```."
   ]
  },
  {
   "cell_type": "code",
   "execution_count": null,
   "metadata": {
    "id": "OoLofo5w1_kz"
   },
   "outputs": [],
   "source": [
    "3 == 5 or 3 < 5"
   ]
  },
  {
   "cell_type": "code",
   "execution_count": null,
   "metadata": {
    "id": "cKOkyTZ31_kz"
   },
   "outputs": [],
   "source": [
    "10 > 2 and 2 < 1"
   ]
  },
  {
   "cell_type": "code",
   "execution_count": null,
   "metadata": {
    "id": "SrkuBMjm1_kz"
   },
   "outputs": [],
   "source": [
    "(10 > 2 and 2 < 1) and (3 == 5 or 3 < 5)"
   ]
  },
  {
   "cell_type": "code",
   "execution_count": null,
   "metadata": {
    "id": "pE-ep2Ru1_kz"
   },
   "outputs": [],
   "source": [
    "(10 > 2 and 2 < 1) or (3 == 5 or 3 < 5)"
   ]
  },
  {
   "cell_type": "markdown",
   "metadata": {
    "id": "chTnM9R91_kz"
   },
   "source": [
    "These are the simplest cases but they can be combined and used in any number of combinations. For those interested, a conceptual understanding of these can be found by looking at De Morgan's Law.\n",
    "\n",
    "We won't deal too much with the complexities of these in this class but understanding how to effectively use logic gates is important do developing efficient code as well as being basically the foundation for any higher level CS or data structures class."
   ]
  },
  {
   "cell_type": "markdown",
   "metadata": {
    "id": "5rrDOnh81_kz"
   },
   "source": [
    "## Numpy Arrays\n",
    "Of course, science isn't usually just comparing a couple of values at a time. So far we've just used Python as a fancy calculator, but usually we deal with large data sets. Often, these are in the form of our old friend the list. However, lists have their limitations. For example, I can't simply add the values of two lists together. Instead I get this huge monster list:"
   ]
  },
  {
   "cell_type": "code",
   "execution_count": null,
   "metadata": {
    "id": "yYNmNU-B1_k0"
   },
   "outputs": [],
   "source": [
    "list(range(0,21,2)) + list(range(0,11))"
   ]
  },
  {
   "cell_type": "markdown",
   "metadata": {
    "id": "q5V2I6661_k0"
   },
   "source": [
    "You will be regularly using arrays throughout the semester so I recommend going over this section extra carefully as students often get confused working with them.\n",
    "\n",
    "Arrays are an object not built in to Python. Okay, so how to we get them???? Fortunately, Python is an open source software that allows people to develop packages with special utilities that we can import into our work. For example, [**Astropy**](https://docs.astropy.org/en/stable/index.html) was developed to optimize using Python to do astronomy things! For handling big amounts of numbers, the go to package is [**Numpy**](https://numpy.org/doc/stable/). To import numpy, we simply write ```import``` and numpy."
   ]
  },
  {
   "cell_type": "code",
   "execution_count": null,
   "metadata": {
    "id": "gYdP_zl41_k0"
   },
   "outputs": [],
   "source": [
    "import numpy"
   ]
  },
  {
   "cell_type": "markdown",
   "metadata": {
    "id": "x3_LnGx71_k0"
   },
   "source": [
    "To call functions from the numpy module, we type ```numpy``` and then the function we want:"
   ]
  },
  {
   "cell_type": "code",
   "execution_count": null,
   "metadata": {
    "id": "M-ztSG-81_k0"
   },
   "outputs": [],
   "source": [
    "numpy.array(range(11))"
   ]
  },
  {
   "cell_type": "markdown",
   "metadata": {
    "id": "k15H386a1_k0"
   },
   "source": [
    "numpy has lots of very useful things, and you can end up using it a lot while typing your code, so to save time, we usually import numpy as np:"
   ]
  },
  {
   "cell_type": "code",
   "execution_count": null,
   "metadata": {
    "id": "-YrGqDJJ1_k0"
   },
   "outputs": [],
   "source": [
    "import numpy as np"
   ]
  },
  {
   "cell_type": "markdown",
   "metadata": {
    "id": "LojR_nOS1_k1"
   },
   "source": [
    "And now we only need to type np and Python will know what we're talking about"
   ]
  },
  {
   "cell_type": "code",
   "execution_count": null,
   "metadata": {
    "id": "hZEULJTJ1_k1"
   },
   "outputs": [],
   "source": [
    "np.array(range(11))"
   ]
  },
  {
   "cell_type": "markdown",
   "metadata": {
    "id": "WfXjNOca1_k1"
   },
   "source": [
    "Now, some of the drawbacks of the ```range``` function is that the step size cannot go below 1 and that it wasn't inclusive. A great alternative is ```np.linspace```. It also takes three arguments - the first is the beginning of your number sequence, the second is the end (inclusive), and the third is the number of values. linspace then spaces the values evenly so you get a nice even distribution of floats."
   ]
  },
  {
   "cell_type": "code",
   "execution_count": null,
   "metadata": {
    "id": "rVJVpAIx1_k1"
   },
   "outputs": [],
   "source": [
    "np.linspace(0,10,10)"
   ]
  },
  {
   "cell_type": "code",
   "execution_count": null,
   "metadata": {
    "id": "0L6_ZdUF1_k1"
   },
   "outputs": [],
   "source": [
    "np.linspace(0,10,100)"
   ]
  },
  {
   "cell_type": "markdown",
   "metadata": {
    "id": "WHoyLqWt1_k1"
   },
   "source": [
    "If you don't give a third argument, the default number is 50"
   ]
  },
  {
   "cell_type": "code",
   "execution_count": null,
   "metadata": {
    "id": "sPhaq3mm1_k1"
   },
   "outputs": [],
   "source": [
    "array = np.linspace(0,20)\n",
    "print(len(array))"
   ]
  },
  {
   "cell_type": "markdown",
   "metadata": {
    "id": "76vexDKZ1_k1"
   },
   "source": [
    "If you really like the range function though, numpy also has $\\texttt{arange}$, which works the same, but returns your values as a numpy array:"
   ]
  },
  {
   "cell_type": "code",
   "execution_count": null,
   "metadata": {
    "id": "XE-ju9q31_k2"
   },
   "outputs": [],
   "source": [
    "np.arange(5,50,5)"
   ]
  },
  {
   "cell_type": "markdown",
   "metadata": {
    "id": "cScwQ-ML1_k2"
   },
   "source": [
    "What's so special about arrays anyway?? Well, for one, you can do mathematical operations on them:"
   ]
  },
  {
   "cell_type": "code",
   "execution_count": null,
   "metadata": {
    "id": "ewnsjC-b1_k2"
   },
   "outputs": [],
   "source": [
    "array = np.linspace(0,20)\n",
    "print(array)\n",
    "array *= 0.5\n",
    "print(array)"
   ]
  },
  {
   "cell_type": "markdown",
   "metadata": {
    "id": "soQ72cWA1_k2"
   },
   "source": [
    "or combine the elements of two:"
   ]
  },
  {
   "cell_type": "code",
   "execution_count": null,
   "metadata": {
    "id": "cgHxUIR41_k2"
   },
   "outputs": [],
   "source": [
    "array1 = np.linspace(0,20,10); array2 = np.linspace(0,0.5,10)\n",
    "array3 = array1 * array2\n",
    "print(array3)\n",
    "print(array1 + array2)"
   ]
  },
  {
   "cell_type": "markdown",
   "metadata": {
    "id": "MwZhJprc1_k2"
   },
   "source": [
    "You can even pass arrays through functions:"
   ]
  },
  {
   "cell_type": "code",
   "execution_count": null,
   "metadata": {
    "id": "WCslb4jw1_k3"
   },
   "outputs": [],
   "source": [
    "def arrayfunction(x):\n",
    "    return x**2\n",
    "\n",
    "arrayfunction(np.arange(0,10))"
   ]
  },
  {
   "cell_type": "markdown",
   "metadata": {
    "id": "obdx_7fA1_k3"
   },
   "source": [
    "If you already have your data in a list, you don't have to worry either, because you can easily turn that list into an array:"
   ]
  },
  {
   "cell_type": "code",
   "execution_count": null,
   "metadata": {
    "id": "BDJNYH1R1_k3"
   },
   "outputs": [],
   "source": [
    "mylist = [0,5,10,15,20]\n",
    "array = np.array(mylist)\n",
    "print(array/5)"
   ]
  },
  {
   "cell_type": "markdown",
   "metadata": {
    "id": "gKQAOoLT1_k3"
   },
   "source": [
    "Arrays can also be multidimensional:"
   ]
  },
  {
   "cell_type": "code",
   "execution_count": null,
   "metadata": {
    "id": "tMVWKuqZ1_k4"
   },
   "outputs": [],
   "source": [
    "np.array([[1,0],[0,1]])"
   ]
  },
  {
   "cell_type": "markdown",
   "metadata": {
    "id": "K-fkUgVj1_k4"
   },
   "source": [
    "If you're not sure of the dimension or size of an array, you can use the ```shape()``` method:\n",
    "\n",
    "**I cannot stress this enough: Throughout the semester you WILL at some point be comfused with what you are working with in your code. In these situations the ```shape()``` and ```type()``` will tell you what class and size of object you're dealing with and they'll become your best friends.**"
   ]
  },
  {
   "cell_type": "code",
   "execution_count": null,
   "metadata": {
    "id": "GBAMhx951_k4"
   },
   "outputs": [],
   "source": [
    "array = np.array([[1,0,0], [0,0,1]])\n",
    "np.shape(array)"
   ]
  },
  {
   "cell_type": "markdown",
   "metadata": {
    "id": "AhJf7_SS1_k4"
   },
   "source": [
    "And of course, to define your array manually is very much like creating a list. Within the array function, the data must also be within square brackets:"
   ]
  },
  {
   "cell_type": "code",
   "execution_count": null,
   "metadata": {
    "id": "hLRS72rA1_k4"
   },
   "outputs": [],
   "source": [
    "array = np.array([4,8,12,16])"
   ]
  },
  {
   "cell_type": "markdown",
   "metadata": {
    "id": "l1m4cK2S1_k4"
   },
   "source": [
    "Okay, I have arrays now, but what if I only need to work with or change one or a few numbers in that array? We can use indexing! To index a list or array, we use square brackets. Like I mentioned before, Python is zero-based, meaning the first element is element 0:"
   ]
  },
  {
   "cell_type": "code",
   "execution_count": null,
   "metadata": {
    "id": "oxOJ_vYE1_k4"
   },
   "outputs": [],
   "source": [
    "array[0]"
   ]
  },
  {
   "cell_type": "markdown",
   "metadata": {
    "id": "PQ758gtE1_k5"
   },
   "source": [
    "You can try to think of this as the \"zeroth\" element, or just displace by one whenever you think about indices.\n",
    "\n",
    "To get the last element of a list of array, you can put the index of that element, or -1. Think of this as just indexing in the opposite direction. In general, any distance from the end of the list will just be the negative of the number of elements away from the end:"
   ]
  },
  {
   "cell_type": "code",
   "execution_count": null,
   "metadata": {
    "id": "JLLNoyH21_k5"
   },
   "outputs": [],
   "source": [
    "array[-1]"
   ]
  },
  {
   "cell_type": "code",
   "execution_count": null,
   "metadata": {
    "id": "K5R8zSsw1_k5"
   },
   "outputs": [],
   "source": [
    "array[-2]"
   ]
  },
  {
   "cell_type": "markdown",
   "metadata": {
    "id": "QFXwzv7y1_k5"
   },
   "source": [
    "To index multiple elements, we use a colon. The rules of these are as follows:\n",
    "\n",
    "$\\texttt{a:b}$ - from index a to index b (exlusive)\n",
    "\n",
    "$\\texttt{a:b:c}$ - every c'th entry between indices a and b\n",
    "\n",
    "$\\texttt{a:}$ - from index a until the end\n",
    "\n",
    "$\\texttt{:a}$ - from the beginning to index a\n",
    "\n",
    "In the cell below, create a new 1d array that ranges from 0 to 100 with 25 elements. Print: a) the array until index 5; b) the array between indices 10 and 20; c) the entire array in steps of 3"
   ]
  },
  {
   "cell_type": "code",
   "execution_count": null,
   "metadata": {
    "id": "0XLFVG8P1_k5"
   },
   "outputs": [],
   "source": []
  },
  {
   "cell_type": "markdown",
   "metadata": {
    "id": "Bqmz93fG1_k5"
   },
   "source": [
    "When indexing 2d arrays, the convention is $\\texttt{[row,column]}$:"
   ]
  },
  {
   "cell_type": "code",
   "execution_count": null,
   "metadata": {
    "id": "NO2yQQQt1_k5"
   },
   "outputs": [],
   "source": [
    "array2d = np.array([[1,2,3],\n",
    "                    [4,5,6],\n",
    "                    [7,8,9]])\n",
    "print(array2d[1,1])"
   ]
  },
  {
   "cell_type": "markdown",
   "metadata": {
    "id": "aS2YiJI_1_k5"
   },
   "source": [
    "Based on the 1d indexing rules, how do you think you could select an entire row of a 2d array? An entire column? Print the second column and the third row of array2d in the cell below:"
   ]
  },
  {
   "cell_type": "code",
   "execution_count": null,
   "metadata": {
    "id": "nV5SwFX_1_k6"
   },
   "outputs": [],
   "source": []
  },
  {
   "cell_type": "markdown",
   "metadata": {
    "id": "R71p0JNa1_k6"
   },
   "source": [
    "Another useful trick when working with lists and arrays is to make an \"empty\" array that you will populate later. This is done using ```np.zeros()```. \n",
    "\n",
    "For a 1d array, simply put the size you want in the argument. For higher dimensions, ```(rows,cols)```."
   ]
  },
  {
   "cell_type": "code",
   "execution_count": null,
   "metadata": {
    "id": "XYBcTFwn1_k6"
   },
   "outputs": [],
   "source": [
    "emptyarray = np.zeros((2,3))\n",
    "emptyarray"
   ]
  },
  {
   "cell_type": "markdown",
   "metadata": {
    "id": "eo7syiET1_k6"
   },
   "source": [
    "### Practice\n",
    "In the cell below, create the 3x3 identity matrix by creating an empty matrix and populating it."
   ]
  },
  {
   "cell_type": "code",
   "execution_count": null,
   "metadata": {
    "id": "EyzYyow_1_k6"
   },
   "outputs": [],
   "source": []
  },
  {
   "cell_type": "markdown",
   "metadata": {
    "id": "BYMJIkBv1_k6"
   },
   "source": [
    "Say you're looking at a very large array or only care about one portion of your data. You can use the ```np.where``` function to retrieve the indices of the values within your array that meet certain criteria.\n",
    "\n",
    "Consider this hypothetical list of grades:"
   ]
  },
  {
   "cell_type": "code",
   "execution_count": null,
   "metadata": {
    "id": "ZLEgM0xi1_k6"
   },
   "outputs": [],
   "source": [
    "grades = np.array([100, 62, 77, 56, 98, 54, 83, 91, 69, 96])\n",
    "\n",
    "passing  = np.where(grades > 70)\n",
    "print(passing)"
   ]
  },
  {
   "cell_type": "markdown",
   "metadata": {
    "id": "CtcawQO51_k6"
   },
   "source": [
    "```np.where``` returns a tuple, which is like a list. As you can see, the indices we care about are in the first element of this tuple:"
   ]
  },
  {
   "cell_type": "code",
   "execution_count": null,
   "metadata": {
    "id": "ZzVR5AIg1_k7"
   },
   "outputs": [],
   "source": [
    "passinggrades = grades[passing[0]]\n",
    "print(passinggrades)"
   ]
  },
  {
   "cell_type": "markdown",
   "metadata": {
    "id": "oipHTKBg1_k7"
   },
   "source": [
    "Notice how we can use a list of indices as itself an index in order to list multiple elements."
   ]
  },
  {
   "cell_type": "markdown",
   "metadata": {
    "id": "JTL5cU4Y1_k7"
   },
   "source": [
    "### Practice\n",
    "In the cell below, create a 1d array that spans from 2 to 40 with step size 2. Think of this as our X values. Then create a step function by defining a function that returns 0 for values less than 20 and 1 for values greater than or equal to 20. Pass the array through this function"
   ]
  },
  {
   "cell_type": "code",
   "execution_count": null,
   "metadata": {
    "id": "_Jszz1du1_k7"
   },
   "outputs": [],
   "source": []
  },
  {
   "cell_type": "markdown",
   "metadata": {
    "id": "iURXG2821_k7"
   },
   "source": [
    "## If statements and Loops\n",
    "A lot of Python's power comes from it logic and automation abilities. Using these in a smart way can save you a lot of work. As the saying goes - work smarter, not harder!\n",
    "\n",
    "```if``` statements provide Python with a condition that must be met for the code to continue. If this condition is not met, the code will stop or look for other conditions.\n",
    "\n",
    "Let's look at the syntax of how this works:\n",
    "\n",
    "```python\n",
    "if condition is met:\n",
    "    do something\n",
    "```\n",
    "\n",
    "Just as with defining functions, keeping track of indentations is very important here. It can easily become confusing once you start nesting these bad boys."
   ]
  },
  {
   "cell_type": "code",
   "execution_count": null,
   "metadata": {
    "id": "z0K9bKJL1_k7"
   },
   "outputs": [],
   "source": [
    "x = 'Python'\n",
    "\n",
    "if type(x) == str:\n",
    "    print('Python is a string')"
   ]
  },
  {
   "cell_type": "markdown",
   "metadata": {
    "id": "9QeXm9aU1_k7"
   },
   "source": [
    "To provide another possible condition, we can use ```else```:"
   ]
  },
  {
   "cell_type": "code",
   "execution_count": null,
   "metadata": {
    "id": "td3I2w-Y1_k7"
   },
   "outputs": [],
   "source": [
    "x = 5\n",
    "\n",
    "if x > 10:\n",
    "    print('X is a pretty big number')\n",
    "else:\n",
    "    print('X is a lame number')"
   ]
  },
  {
   "cell_type": "markdown",
   "metadata": {
    "id": "LdTokTTx1_k8"
   },
   "source": [
    "To provide even more conditions, we use ```elif```, or \"else if\" statements. We can add as much of these as we want, as long as they are between the ```if``` and ```else``` statements. "
   ]
  },
  {
   "cell_type": "code",
   "execution_count": null,
   "metadata": {
    "id": "rD-axsCz1_k8"
   },
   "outputs": [],
   "source": [
    "array = np.array([[1,5,7],[3,2,8],[9,1,5]])\n",
    "\n",
    "if np.shape(array) == (1,0):\n",
    "    print('The array is a 1d list')\n",
    "elif np.shape(array) == (2,2):\n",
    "    print('The array is a 2x2 matrix')\n",
    "elif np.shape(array) == (3,3):\n",
    "    print('The array is a 3x3 matrix')\n",
    "else:\n",
    "    print('Not sure what the array is')"
   ]
  },
  {
   "cell_type": "markdown",
   "metadata": {
    "id": "aHN-p5OB1_k8"
   },
   "source": [
    "In the cell below, create a 1d array with 10 values between 0 and 1, inclusive. Write an ```if``` statement that checks whether the last entry in the array is less than one. If so, print the last entry. If not, print \"[last entry] is not less than one.\""
   ]
  },
  {
   "cell_type": "code",
   "execution_count": null,
   "metadata": {
    "id": "0upGezQC1_k8"
   },
   "outputs": [],
   "source": []
  },
  {
   "cell_type": "markdown",
   "metadata": {
    "id": "W370rV2I1_k8"
   },
   "source": [
    "### For Loops"
   ]
  },
  {
   "cell_type": "markdown",
   "metadata": {
    "id": "zxgE8SN21_k8"
   },
   "source": [
    "```for``` loops allow you to iterate through lists and arrays and lots of other things and do some operation for every iteration. The syntax is:\n",
    "```python\n",
    "for x in y:\n",
    "    do something\n",
    "```\n",
    "\n",
    "By convention, people like to use ```i```, probably for \"iteration\", but it actually doesn't really matter as long as you keep track of it. It's worth noting that once you've used i as a variable in a loop you can't use it as a variable if you nest another loop inside that one. Convention then says go to j, then, k, etc..."
   ]
  },
  {
   "cell_type": "code",
   "execution_count": null,
   "metadata": {
    "id": "VFmwCKqi1_k8"
   },
   "outputs": [],
   "source": [
    "for i in range(10):\n",
    "    print(i**2)"
   ]
  },
  {
   "cell_type": "markdown",
   "metadata": {},
   "source": [
    "What this cell above does is print the square of the element FOR every element in ```range(10)```. It may seem abstract now, but try some more examples:"
   ]
  },
  {
   "cell_type": "code",
   "execution_count": null,
   "metadata": {
    "id": "b1qMd0rn1_k8"
   },
   "outputs": [],
   "source": [
    "#a nested loop\n",
    "for i in range(10):\n",
    "    for j in range(5):\n",
    "        print(i, j)\n",
    "    print()"
   ]
  },
  {
   "cell_type": "code",
   "execution_count": null,
   "metadata": {
    "id": "SLWS0Xn71_k8"
   },
   "outputs": [],
   "source": [
    "hidden_message = ['siht','si','a','neddih','egassem']\n",
    "for word in hidden_message:\n",
    "    print(word[::-1])"
   ]
  },
  {
   "cell_type": "markdown",
   "metadata": {
    "id": "jcBzxw301_k9"
   },
   "source": [
    "Like I said, you can nest loops and if statements within each other for extra fun, and things can get crazy. In my research I often use five layers of loops. Don't try this at home kids\n",
    "\n",
    "This is not a joke btw. We won't deal with technical definitions of code efficency here but in general a single loop is on the order of n^2 efficiency. Basically the \"slowness\" scales as a square with respect to the size of the loop. A nested set of two loops is n^3, triple nested is n^4, etc... tldr if you're working with a lot of data and you try anything past triple nested you'll probably turn your computer into a cooktop.\n",
    "\n",
    "(its also worth noting if you get past a triple nested loop in this class you have 1000% done something wrong. We're evil not cruel)"
   ]
  },
  {
   "cell_type": "code",
   "execution_count": null,
   "metadata": {
    "id": "9BiURBV61_k9"
   },
   "outputs": [],
   "source": [
    "students = ['Peter','Joseph','Pranav','Aryn']\n",
    "grades = [100,82,65,70]\n",
    "for i in range(len(students)):\n",
    "    if grades[i] > 90:\n",
    "        print(students[i],'is a great student')\n",
    "    elif 75 < grades[i] < 89:\n",
    "        print(students[i],'is an okay student')\n",
    "    else:\n",
    "        print(students[i],'is a terrible student')"
   ]
  },
  {
   "cell_type": "markdown",
   "metadata": {
    "id": "1CBhlFwe1_k9"
   },
   "source": [
    "In the cell below, iterate through the array, and for every value, check whether it is even. If so, print the value.\n",
    "\n",
    "Hint: the remainder of x / y in Python is ```x % y```"
   ]
  },
  {
   "cell_type": "code",
   "execution_count": null,
   "metadata": {
    "id": "FJbTcSwY1_k9"
   },
   "outputs": [],
   "source": [
    "array = np.linspace(0,20,21)\n",
    "\n",
    "\n"
   ]
  },
  {
   "cell_type": "markdown",
   "metadata": {
    "id": "0FA3M5F81_k9"
   },
   "source": [
    "A more dynamic variation of the ```for``` loop is the ```while``` loop. This will run the code as long as a certain condition is met and then stop once it is no longer true."
   ]
  },
  {
   "cell_type": "code",
   "execution_count": null,
   "metadata": {
    "id": "i_uNz5rH1_k9"
   },
   "outputs": [],
   "source": [
    "# At first x = 0\n",
    "x = 0\n",
    "# So while x is less than 10, let's print the value of x\n",
    "while x < 10:\n",
    "    print(x)\n",
    "    x += 1\n",
    "# If x is no longer less than 10:\n",
    "else:\n",
    "    print('x is too big!')"
   ]
  },
  {
   "cell_type": "markdown",
   "metadata": {
    "id": "AMgVgAAx1_k9"
   },
   "source": [
    "There is a LARGE disclaimer about while loops. You can only exit a while loop if your control condition (called a sentinel variable) is met, aka if you don't plot out your logic statement properly you can end up with an infinitely running while loop. Unlike other situations, the computer will not detect anything is wrong and it'll keep going in the loop until you run out of memory and crash (this is called a Runtime error). While loops have their place and are very useful but be cautious about using them in the beginning."
   ]
  },
  {
   "cell_type": "markdown",
   "metadata": {
    "id": "QI08EwiJ1_k-"
   },
   "source": [
    "## Data Visualization\n",
    "You know your way around numpy arrays and the logic of Python! Great! But numbers are very abstract, and once you get really large datasets, looking through those long lists just won't be able to cut it. Plotting data is the best way to get the most out of your research! but how to....?\n",
    "\n",
    "Most people like to use another package called **matplotlib**, truncated to \"plt\". Just like numpy, we need to import it:"
   ]
  },
  {
   "cell_type": "code",
   "execution_count": null,
   "metadata": {
    "id": "G-RJLJc21_k-"
   },
   "outputs": [],
   "source": [
    "import matplotlib.pyplot as plt"
   ]
  },
  {
   "cell_type": "markdown",
   "metadata": {
    "id": "2D7m_ED71_k-"
   },
   "source": [
    "While you're coding in Jupyter Notebooks you'll also need the following line. Quite frankly I've forgotten why but safe to say just toss it in your code to be safe okay?"
   ]
  },
  {
   "cell_type": "code",
   "execution_count": null,
   "metadata": {
    "id": "aw-fAtT31_k-"
   },
   "outputs": [],
   "source": [
    "%matplotlib inline"
   ]
  },
  {
   "cell_type": "markdown",
   "metadata": {
    "id": "7FD1zIpj1_k-"
   },
   "source": [
    "The most common function you will call from matplotlib is **plot**. Aptly named, it plots your data! Give your X data first and Y data second:"
   ]
  },
  {
   "cell_type": "code",
   "execution_count": null,
   "metadata": {
    "id": "P2VgXqkK1_k-"
   },
   "outputs": [],
   "source": [
    "x = np.linspace(0,20)\n",
    "y = np.linspace(0,10)\n",
    "\n",
    "plt.plot(x,y)"
   ]
  },
  {
   "cell_type": "markdown",
   "metadata": {
    "id": "GTW2Nx-p1_k-"
   },
   "source": [
    "There are many many different ways to customize and tweak these plots, and there's no way I could go over them all, but I'll try to hit the major ones:\n",
    "\n",
    "To change the size of your plot, before you call plot, type plt.figure, and within the argument set the variable figsize=(length,height)"
   ]
  },
  {
   "cell_type": "code",
   "execution_count": null,
   "metadata": {
    "id": "Yzi-_hDQ1_k_"
   },
   "outputs": [],
   "source": [
    "plt.figure(figsize=(15,5))\n",
    "plt.plot(x,y)"
   ]
  },
  {
   "cell_type": "markdown",
   "metadata": {
    "id": "USjDnCJP1_k_"
   },
   "source": [
    "To change the actual line of the plot, there are several additional arguments you can put in plot(). Some are\n",
    "\n",
    "linestyle: solid line, dashed line, dot dashed, whatever\n",
    "\n",
    "color: plot in style!! what's the best color??\n",
    "\n",
    "alpha: opacity basically. Useful if you have a lot of other plots in one graph\n",
    "\n",
    "label: doesn't affect the graph but will show up in the legend and is very helpful\n",
    "\n",
    "Here's an example:"
   ]
  },
  {
   "cell_type": "code",
   "execution_count": null,
   "metadata": {
    "id": "OGv6Cuuo1_k_"
   },
   "outputs": [],
   "source": [
    "plt.figure(figsize=(15,5))\n",
    "plt.plot(x,y,ls = '-.', color='m', alpha=0.7,label='beautiful plot')\n",
    "plt.legend()"
   ]
  },
  {
   "cell_type": "markdown",
   "metadata": {
    "id": "sIz1KKaO1_k_"
   },
   "source": [
    "Labeling is also very important!! "
   ]
  },
  {
   "cell_type": "code",
   "execution_count": null,
   "metadata": {
    "id": "5jKtRwPm1_k_"
   },
   "outputs": [],
   "source": [
    "plt.xlabel('X data')\n",
    "plt.ylabel('Y data')\n",
    "plt.title('my beautiful plot')"
   ]
  },
  {
   "cell_type": "markdown",
   "metadata": {
    "id": "1W5P1FIz1_k_"
   },
   "source": [
    "You can also change the scale and limits"
   ]
  },
  {
   "cell_type": "code",
   "execution_count": null,
   "metadata": {
    "id": "_QktRh6p1_k_"
   },
   "outputs": [],
   "source": [
    "plt.yscale('log')\n",
    "plt.xlim(4,50)"
   ]
  },
  {
   "cell_type": "markdown",
   "metadata": {
    "id": "y59Pj7lV1_lA"
   },
   "source": [
    "Besides doing solid, continuous lines, you can also make scatter plots and histograms:"
   ]
  },
  {
   "cell_type": "code",
   "execution_count": null,
   "metadata": {
    "id": "wAsaFzJ51_lA"
   },
   "outputs": [],
   "source": [
    "x = [5,2,8,4]\n",
    "y = [2,7,3,9]\n",
    "plt.scatter(x,y,marker = '*',s=2**8)\n",
    "plt.show()\n",
    "\n",
    "grades = [40,57,80,76,100,92,46,78,98,72,89]\n",
    "plt.hist(grades)\n",
    "plt.title('Grade distribution')\n",
    "plt.show()"
   ]
  },
  {
   "cell_type": "markdown",
   "metadata": {
    "id": "Me002Iwg1_lA"
   },
   "source": [
    "You can save these plots as well! Create a variable \"fig\" and set it equal to plt.figure(). Before calling plt.show(), do fig.savefig('filename.pdf')."
   ]
  },
  {
   "cell_type": "markdown",
   "metadata": {
    "id": "HciC1oIl1_lA"
   },
   "source": [
    "Plots are the backbone of everything we do in astronomy research so it's very important you understand how to make and interpret them. Again we've shown you the basics here, but there are numerous ways to display them. If you're curious or if you need help with anything above you can also just google the function (i.e. plt.plot help) and look through the documentation on Matlplotlib's website."
   ]
  },
  {
   "cell_type": "markdown",
   "metadata": {
    "id": "JJok1Upj1_lA"
   },
   "source": [
    "### Practice\n",
    "Create a quadratic function and an array from 0 to 50 to use as X values. Plot X and f(X), with the y scale on logarithmic. Make the length:height ratio of the plot 2:1, the color something other than default blue, and the line not solid. Then create another X array, half the resolution as the other, and scatter plot X and f(X). Again, make the color anything other than default blue and the markers anything other than dots. Label the line plot 'Excellent Data' and have a legend. Title the plot 'My first Python plot'. Once you're happy with it, save it."
   ]
  },
  {
   "cell_type": "code",
   "execution_count": null,
   "metadata": {
    "id": "LICQA_Wt1_lA"
   },
   "outputs": [],
   "source": []
  },
  {
   "cell_type": "markdown",
   "metadata": {
    "id": "JEL0pV6I1_lA"
   },
   "source": [
    "# Part III: Pythonic Boogaloo (or, now THIS is podracing)"
   ]
  },
  {
   "cell_type": "markdown",
   "metadata": {
    "id": "J6R_K25h1_lB"
   },
   "source": [
    "## Reading and Writing Data\n",
    "I keep talking about data and how big datasets can be, but where is it?? Surely we don't type in every single number and make a numpy array out of it? Fortunately for us, there are several ways Python can read in data. One of these is reading text files. Numpy has a nice function called $\\texttt{loadtxt}$ that reads in loads of numbers in text files and creates arrays we can work with. To show this, I'm going to make you do some of my research for me, mwahahahahahaha"
   ]
  },
  {
   "cell_type": "code",
   "execution_count": null,
   "metadata": {
    "id": "6lmV8Pln1_lB"
   },
   "outputs": [],
   "source": [
    "lightcurve = np.loadtxt('wdj1755+3958_20190509.lc')"
   ]
  },
  {
   "cell_type": "markdown",
   "metadata": {
    "id": "qEoZyJao1_lB"
   },
   "source": [
    "I've read in the light curve of a white dwarf from a text file and stored as the variable $\\texttt{lightcurve}$. A \"light curve\" is the measure of a star's brightness over time. Fun fact, this particular light curve was collected by your TA, Zach Vanderbosch, out at McDonald Observatory in West Texas. Fun fact two: this object, WD J17155+3958, is a pulsating hydrogen-atmosphere white dwarf, aka DAV (DA = hydrogen atmosphere, V = variable), so it is constantly varying in brightness.\n",
    "\n",
    "This light curve file is split into columns, with the timestamps in the first column and brightness measurements (or flux) in the second. Thankfully, the syntax for parsing this file is similar to something we've seen before. Thinking back to another object we used today that is split by columns, try to write the code that will plot the light curve in the cell below."
   ]
  },
  {
   "cell_type": "code",
   "execution_count": null,
   "metadata": {
    "id": "_xgYv_5y1_lB"
   },
   "outputs": [],
   "source": [
    "# Write you code here\n"
   ]
  },
  {
   "cell_type": "code",
   "execution_count": null,
   "metadata": {
    "id": "VOw0xkTw1_lB"
   },
   "outputs": [],
   "source": [
    "# If you were able to plot the light curve, now try plotting it with the time in units of HOURS instead of SECONDS\n"
   ]
  },
  {
   "cell_type": "markdown",
   "metadata": {
    "id": "S_fX_Qz81_lB"
   },
   "source": [
    "### Congratulations!! I hereby dub you an astronomer. That's it. That's literally all there is. We are merely fools who spend just years learning how to make our plots prettier using the commands you just learned. Welcome to the club!\n",
    "\n",
    "Here's two takeaways to remember:\n",
    "1) A good way to think about writing code is that it is like writing an instruction manual. There isn't necessarily always a \"best\" or \"right\" to write a manual for build a bird house, but there are \"wrong\" ways. You shouldn't trick someone into a building a fish aquarium, right? When writing an instruction manual you have a lot of helpful devices at your disposal, like diagrams and schematics. Think of operators, functions, and ***comments (yes, comment your code!)*** in your code as those same devices.\n",
    "\n",
    "2) Lastly, **GOOGLE IS YOUR FRIEND**. There are plenty of resources out there. It is likely that someone else has had the same problem as you before. So try googling it. Like if you were struggling with plotting the light curve, you could google \"how to plot with matplotlih python\". Reliable websites are Stack Overflow, GitHub, and source code documentation (like Numpy and Matplotlib's website).\n",
    "\n",
    "Good luck! :)"
   ]
  },
  {
   "cell_type": "code",
   "execution_count": null,
   "metadata": {
    "id": "xTlt1icD3EFO"
   },
   "outputs": [],
   "source": []
  }
 ],
 "metadata": {
  "colab": {
   "collapsed_sections": [
    "hmNSvQwa1_ks",
    "yDkzKgA61_kt",
    "4lqhWmhh1_kt",
    "TnX0w4X71_ku",
    "anok2s4y1_kx",
    "p73jkktq1_ky",
    "5rrDOnh81_kz",
    "eo7syiET1_k6",
    "JTL5cU4Y1_k7",
    "iURXG2821_k7",
    "W370rV2I1_k8",
    "QI08EwiJ1_k-",
    "JJok1Upj1_lA"
   ],
   "name": "fri_python_course_updated.ipynb",
   "provenance": []
  },
  "kernelspec": {
   "display_name": "Python 3",
   "language": "python",
   "name": "python3"
  },
  "language_info": {
   "codemirror_mode": {
    "name": "ipython",
    "version": 3
   },
   "file_extension": ".py",
   "mimetype": "text/x-python",
   "name": "python",
   "nbconvert_exporter": "python",
   "pygments_lexer": "ipython3",
   "version": "3.8.5"
  },
  "toc": {
   "base_numbering": 1,
   "nav_menu": {},
   "number_sections": true,
   "sideBar": true,
   "skip_h1_title": false,
   "title_cell": "Table of Contents",
   "title_sidebar": "Contents",
   "toc_cell": false,
   "toc_position": {},
   "toc_section_display": true,
   "toc_window_display": true
  },
  "varInspector": {
   "cols": {
    "lenName": 16,
    "lenType": 16,
    "lenVar": 40
   },
   "kernels_config": {
    "python": {
     "delete_cmd_postfix": "",
     "delete_cmd_prefix": "del ",
     "library": "var_list.py",
     "varRefreshCmd": "print(var_dic_list())"
    },
    "r": {
     "delete_cmd_postfix": ") ",
     "delete_cmd_prefix": "rm(",
     "library": "var_list.r",
     "varRefreshCmd": "cat(var_dic_list()) "
    }
   },
   "types_to_exclude": [
    "module",
    "function",
    "builtin_function_or_method",
    "instance",
    "_Feature"
   ],
   "window_display": false
  }
 },
 "nbformat": 4,
 "nbformat_minor": 1
}
