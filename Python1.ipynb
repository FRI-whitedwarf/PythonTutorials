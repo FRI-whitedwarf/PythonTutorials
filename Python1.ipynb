{
 "cells": [
  {
   "cell_type": "markdown",
   "metadata": {},
   "source": [
    "# FRI Introduction to Python 1"
   ]
  },
  {
   "cell_type": "markdown",
   "metadata": {},
   "source": [
    "Python is a general purpose computer language that is very useful for many things, from data analysis and plotting to shell scripting and file management. There’s almost nothing it can’t be made to do! It’s also relatively easy to learn and makes a great first language if you aren’t a CS major. If you do any work in the future in a technical field, the odds are that Python will be useful for you.\n",
    "\n",
    "The goals of this first Python lab are to demonstrate the different types of variables available to you, to explore some basic variable manipulation, to see how to import packages and one way to read in a file, and to make a first plot.\n",
    "\n",
    "In general, you can write entire computer programs in Python as files that you call from the command line, but this IPython Notebook environment is useful for simple data manipulation projects and prototyping your larger programs.  To use an IPython Notebook, enter the code you want to run into a cell, then evalulate that cell by pressing Shift+Return.\n",
    "\n",
    "**HUGELY HELPFUL TIP:** IPython Notebooks also importantly allow you to use the \"Tab\" button to auto-complete the names of functions and variables to speed up typing and reduce mistakes.  You can also access a function's help documentation in IPython by pressing Shift+Tab after typing the name of the function."
   ]
  },
  {
   "cell_type": "markdown",
   "metadata": {},
   "source": [
    "### Strings"
   ]
  },
  {
   "cell_type": "code",
   "execution_count": 1,
   "metadata": {
    "collapsed": false
   },
   "outputs": [
    {
     "name": "stdout",
     "output_type": "stream",
     "text": [
      "Hello world!\n"
     ]
    }
   ],
   "source": [
    "#Every good programmer should first learn how to greet the world.  \n",
    "#In Python, lines that start with a \"#\" are comments and are\n",
    "#not run as code.  It is good practice to include plenty of comments \n",
    "#to explain what your code is designed to do for readability.\n",
    "\n",
    "#To print something to the screen, use the print command\n",
    "print 'Hello world!'"
   ]
  },
  {
   "cell_type": "code",
   "execution_count": 2,
   "metadata": {
    "collapsed": false
   },
   "outputs": [
    {
     "name": "stdout",
     "output_type": "stream",
     "text": [
      "<type 'str'>\n"
     ]
    }
   ],
   "source": [
    "#Now we're talking.\n",
    "\n",
    "#When programming, there are different types of variables that you can use.  \n",
    "#A chunk of text is called a string.\n",
    "print type('Hello world!')"
   ]
  },
  {
   "cell_type": "code",
   "execution_count": 3,
   "metadata": {
    "collapsed": false
   },
   "outputs": [
    {
     "name": "stdout",
     "output_type": "stream",
     "text": [
      "It's my birthday.\n"
     ]
    }
   ],
   "source": [
    "#Strings can also be defined with double quotation marks, \n",
    "#which is useful if there's an apostrophe in the text.\n",
    "print \"It's my birthday.\""
   ]
  },
  {
   "cell_type": "code",
   "execution_count": 4,
   "metadata": {
    "collapsed": false
   },
   "outputs": [
    {
     "data": {
      "text/plain": [
       "'Hello world!'"
      ]
     },
     "execution_count": 4,
     "metadata": {},
     "output_type": "execute_result"
    }
   ],
   "source": [
    "#While print commands are needed in standalone python code, \n",
    "#you can also view the contents of a python object in an IPython\n",
    "#Notebook without typing \"print.\"\n",
    "'Hello world!'"
   ]
  },
  {
   "cell_type": "code",
   "execution_count": 5,
   "metadata": {
    "collapsed": false
   },
   "outputs": [
    {
     "name": "stdout",
     "output_type": "stream",
     "text": [
      "Hello world!\n"
     ]
    }
   ],
   "source": [
    "#Expressions like this can also be stored in a named variable to be called later.  \n",
    "#Here's an example:\n",
    "greeting = 'Hello world!'\n",
    "print greeting"
   ]
  },
  {
   "cell_type": "code",
   "execution_count": 6,
   "metadata": {
    "collapsed": false
   },
   "outputs": [
    {
     "name": "stdout",
     "output_type": "stream",
     "text": [
      "Hello world!\n",
      "Goodbye world.\n"
     ]
    }
   ],
   "source": [
    "#Hello, indeed.\n",
    "\n",
    "#Variables are great because they can be referenced again and again \n",
    "#and can be shorthand for a more complicated expression.\n",
    "#Also, as the word \"variable\" suggests, they can be set to hold many \n",
    "#different values.\n",
    "print greeting\n",
    "greeting = 'Goodbye world.'\n",
    "print greeting"
   ]
  },
  {
   "cell_type": "code",
   "execution_count": 7,
   "metadata": {
    "collapsed": false
   },
   "outputs": [
    {
     "name": "stdout",
     "output_type": "stream",
     "text": [
      "12\n"
     ]
    }
   ],
   "source": [
    "#A string is actually treated much like a list of individual characters.  \n",
    "#This is very useful.\n",
    "greeting = 'Hello world!'\n",
    "\n",
    "#How long is the list of characters?\n",
    "print len(greeting) #len() gives the length of a varible. \n",
    "#To see what a function does, type it (e.g. \"len\") and hit Shift+Tab"
   ]
  },
  {
   "cell_type": "code",
   "execution_count": 8,
   "metadata": {
    "collapsed": false
   },
   "outputs": [
    {
     "name": "stdout",
     "output_type": "stream",
     "text": [
      "H\n"
     ]
    }
   ],
   "source": [
    "#Of these 12 characters, we can view individual ones by calling their indices.\n",
    "#In python counting starts with 0.\n",
    "#Print the first character of greeting.\n",
    "print greeting[0]"
   ]
  },
  {
   "cell_type": "code",
   "execution_count": 9,
   "metadata": {
    "collapsed": false
   },
   "outputs": [
    {
     "name": "stdout",
     "output_type": "stream",
     "text": [
      "!\n"
     ]
    }
   ],
   "source": [
    "#We may wish to see the last letter of a string.  \n",
    "#Since counting starts at 0, the last character is at 11.\n",
    "print greeting[len(greeting)-1]"
   ]
  },
  {
   "cell_type": "code",
   "execution_count": 10,
   "metadata": {
    "collapsed": false
   },
   "outputs": [
    {
     "name": "stdout",
     "output_type": "stream",
     "text": [
      "!\n"
     ]
    }
   ],
   "source": [
    "#But that's a mounthful.  \n",
    "#Indexing can also run backwards to count from the end of an object.\n",
    "print greeting[-1]"
   ]
  },
  {
   "cell_type": "code",
   "execution_count": 11,
   "metadata": {
    "collapsed": false
   },
   "outputs": [
    {
     "name": "stdout",
     "output_type": "stream",
     "text": [
      "Hell\n"
     ]
    }
   ],
   "source": [
    "#With strings, you can also ask for any range of characters with a colon, \n",
    "#from the number before the colon to the spot immediately before the number \n",
    "#after the colon.\n",
    "print greeting[0:4]"
   ]
  },
  {
   "cell_type": "code",
   "execution_count": 12,
   "metadata": {
    "collapsed": false
   },
   "outputs": [
    {
     "name": "stdout",
     "output_type": "stream",
     "text": [
      "Hell\n",
      "o world!\n"
     ]
    }
   ],
   "source": [
    "#Leaving a number out on one side of the colon assumes the beginning or end of the string\n",
    "print greeting[:4]\n",
    "print greeting[4:]"
   ]
  },
  {
   "cell_type": "code",
   "execution_count": 13,
   "metadata": {
    "collapsed": false
   },
   "outputs": [
    {
     "name": "stdout",
     "output_type": "stream",
     "text": [
      "Hello world!\n",
      "HELLO WORLD!\n",
      "6\n",
      "goodbye world!\n",
      "['Hello', 'world!']\n",
      "['goodbye', 'world!']\n"
     ]
    }
   ],
   "source": [
    "#There are also specific \"methods\" that work only on strings.  \n",
    "#See what the following examples do:\n",
    "print greeting\n",
    "print greeting.upper()\n",
    "print greeting.find('wor')\n",
    "print greeting.replace('Hello','goodbye')\n",
    "print greeting.split(' ') #Especially useful for dealing with files.  See \"lists\" below.\n",
    "print greeting.replace('Hello','goodbye').split(' ')"
   ]
  },
  {
   "cell_type": "code",
   "execution_count": 14,
   "metadata": {
    "collapsed": false
   },
   "outputs": [
    {
     "name": "stdout",
     "output_type": "stream",
     "text": [
      "hello world\n",
      "hello worldhello worldhello worldhello world\n"
     ]
    }
   ],
   "source": [
    "#Strings can be added together to create longer strings\n",
    "greeting = 'hello ' + 'world'\n",
    "print greeting\n",
    "#and multiplied to create much longer strings\n",
    "print greeting * 4"
   ]
  },
  {
   "cell_type": "code",
   "execution_count": 15,
   "metadata": {
    "collapsed": false
   },
   "outputs": [
    {
     "name": "stdout",
     "output_type": "stream",
     "text": [
      "'hello world' is a good first programming phrase.\n"
     ]
    }
   ],
   "source": [
    "#Finally, formatting is a useful way to customize a general string expression\n",
    "print \"'{}' is a good first programming phrase.\".format(greeting)"
   ]
  },
  {
   "cell_type": "markdown",
   "metadata": {},
   "source": [
    "### Numbers"
   ]
  },
  {
   "cell_type": "code",
   "execution_count": 16,
   "metadata": {
    "collapsed": false
   },
   "outputs": [
    {
     "name": "stdout",
     "output_type": "stream",
     "text": [
      "<type 'int'>\n",
      "<type 'float'>\n"
     ]
    }
   ],
   "source": [
    "#Alright, so you've mastered Human speech, but what about the Universal language?\n",
    "\n",
    "#It turns out computers are wicked good at math, and that's mostly why we use them \n",
    "#in our research: to store and manipulate a large quantity of numbers.\n",
    "\n",
    "#There are two main types of python numbers: integers (round numbers) \n",
    "#and floats (numbers with decimals).\n",
    "print type(2)\n",
    "print type(2.0)"
   ]
  },
  {
   "cell_type": "code",
   "execution_count": 17,
   "metadata": {
    "collapsed": false
   },
   "outputs": [
    {
     "name": "stdout",
     "output_type": "stream",
     "text": [
      "1\n",
      "1.5\n"
     ]
    }
   ],
   "source": [
    "#Integers are great for counting discrete things, but aren't typically the best choice \n",
    "#for general math.\n",
    "print 3/2\n",
    "print 3./2."
   ]
  },
  {
   "cell_type": "code",
   "execution_count": 18,
   "metadata": {
    "collapsed": false
   },
   "outputs": [
    {
     "name": "stdout",
     "output_type": "stream",
     "text": [
      "57.0\n",
      "-11.0\n",
      "80.5\n",
      "7.66666666667\n",
      "2\n",
      "1267650600228229401496703205376\n"
     ]
    }
   ],
   "source": [
    "#Basic built in mathmatical expressions include:\n",
    "#addition\n",
    "print 23.+34.\n",
    "#subtraction\n",
    "print 23.-34.\n",
    "#multiplication\n",
    "print 23.*3.5\n",
    "#division\n",
    "print 23./3.\n",
    "#modulus (remainder after division)\n",
    "print 23 % 3\n",
    "#powers\n",
    "print 2**100"
   ]
  },
  {
   "cell_type": "markdown",
   "metadata": {},
   "source": [
    "### Importing modules"
   ]
  },
  {
   "cell_type": "code",
   "execution_count": 19,
   "metadata": {
    "collapsed": false
   },
   "outputs": [
    {
     "name": "stdout",
     "output_type": "stream",
     "text": [
      "3.14159265359\n",
      "4.79583152331\n"
     ]
    }
   ],
   "source": [
    "#More advanced math is possible, but requires you to import additional modules\n",
    "import math\n",
    "print math.pi\n",
    "print math.sqrt(23)"
   ]
  },
  {
   "cell_type": "code",
   "execution_count": 20,
   "metadata": {
    "collapsed": false
   },
   "outputs": [
    {
     "name": "stdout",
     "output_type": "stream",
     "text": [
      "4.79583152331\n",
      "4.79583152331\n"
     ]
    }
   ],
   "source": [
    "#There are other import options that you may find helpful\n",
    "import math as m\n",
    "print m.sqrt(23)\n",
    "\n",
    "#Or\n",
    "from math import sqrt\n",
    "print sqrt(23)\n",
    "#But beware that this approach may overwrite a local object also called \"sqrt\""
   ]
  },
  {
   "cell_type": "code",
   "execution_count": 21,
   "metadata": {
    "collapsed": false
   },
   "outputs": [
    {
     "name": "stdout",
     "output_type": "stream",
     "text": [
      "0.913616616548\n",
      "dog\n"
     ]
    }
   ],
   "source": [
    "#Python is so powerful mostly because there are so many powerful modules written for it!\n",
    "import random\n",
    "print random.random()\n",
    "print random.choice([\"pig\",\"dog\",\"cow\",\"chicken\"])"
   ]
  },
  {
   "cell_type": "markdown",
   "metadata": {},
   "source": [
    "### Lists"
   ]
  },
  {
   "cell_type": "code",
   "execution_count": 22,
   "metadata": {
    "collapsed": false
   },
   "outputs": [
    {
     "name": "stdout",
     "output_type": "stream",
     "text": [
      "['pig', 'dog', 'cow', 'chicken']\n",
      "<type 'list'>\n",
      "4\n"
     ]
    }
   ],
   "source": [
    "#Uh oh, I let a different kind of python object slip in there: a list!\n",
    "l=[\"pig\",\"dog\",\"cow\",\"chicken\"]\n",
    "print l\n",
    "print type(l)\n",
    "print len(l)"
   ]
  },
  {
   "cell_type": "code",
   "execution_count": 23,
   "metadata": {
    "collapsed": false
   },
   "outputs": [
    {
     "name": "stdout",
     "output_type": "stream",
     "text": [
      "dog\n",
      "['pig', 'dog']\n",
      "cow\n"
     ]
    }
   ],
   "source": [
    "#Lists are ordered objects and can be indexed just like strings\n",
    "print l[1]\n",
    "print l[:2]\n",
    "print l[-2]"
   ]
  },
  {
   "cell_type": "code",
   "execution_count": 24,
   "metadata": {
    "collapsed": false
   },
   "outputs": [
    {
     "name": "stdout",
     "output_type": "stream",
     "text": [
      "[1, 'pig', 3.2]\n",
      "3\n"
     ]
    }
   ],
   "source": [
    "#Lists can contain any kind of other objects, at the same time!\n",
    "l=[1,'pig',3.2]\n",
    "print l\n",
    "print len(l)"
   ]
  },
  {
   "cell_type": "code",
   "execution_count": 25,
   "metadata": {
    "collapsed": false
   },
   "outputs": [
    {
     "name": "stdout",
     "output_type": "stream",
     "text": [
      "[1, 'pig', 3.2, 'appended item']\n"
     ]
    }
   ],
   "source": [
    "#Lists can have items added to them\n",
    "l.append('appended item')\n",
    "print l"
   ]
  },
  {
   "cell_type": "code",
   "execution_count": 26,
   "metadata": {
    "collapsed": false
   },
   "outputs": [
    {
     "name": "stdout",
     "output_type": "stream",
     "text": [
      "pig\n",
      "[1, 3.2, 'appended item']\n"
     ]
    }
   ],
   "source": [
    "#And items can be popped out from any location\n",
    "print l.pop(1)\n",
    "print l"
   ]
  },
  {
   "cell_type": "code",
   "execution_count": 27,
   "metadata": {
    "collapsed": false
   },
   "outputs": [
    {
     "name": "stdout",
     "output_type": "stream",
     "text": [
      "[0, 1, 2, 3, 4, 5, 6, 7, 8, 9] <type 'list'>\n"
     ]
    }
   ],
   "source": [
    "#a useful type of list is a list of increasing numbers\n",
    "numbers = range(10)\n",
    "print numbers, type(numbers)"
   ]
  },
  {
   "cell_type": "code",
   "execution_count": 28,
   "metadata": {
    "collapsed": false
   },
   "outputs": [
    {
     "name": "stdout",
     "output_type": "stream",
     "text": [
      "[9, 8, 7, 6, 5, 4, 3, 2, 1, 0]\n"
     ]
    }
   ],
   "source": [
    "#or decreasing numbers\n",
    "numbers.reverse()\n",
    "print numbers"
   ]
  },
  {
   "cell_type": "code",
   "execution_count": 29,
   "metadata": {
    "collapsed": false
   },
   "outputs": [
    {
     "name": "stdout",
     "output_type": "stream",
     "text": [
      "[0.6696820791030088, 0.2859876534682917, 0.897084410242798, 0.534198438197682]\n",
      "[0.2859876534682917, 0.534198438197682, 0.6696820791030088, 0.897084410242798]\n"
     ]
    }
   ],
   "source": [
    "#Lists can be conveniently sorted.\n",
    "rand = [random.random(),random.random(),random.random(),random.random()]\n",
    "print rand\n",
    "rand.sort()\n",
    "print rand"
   ]
  },
  {
   "cell_type": "markdown",
   "metadata": {},
   "source": [
    "### NumPy arrays"
   ]
  },
  {
   "cell_type": "code",
   "execution_count": 30,
   "metadata": {
    "collapsed": false
   },
   "outputs": [
    {
     "name": "stdout",
     "output_type": "stream",
     "text": [
      "[1, 2, 3, 4, 4, 4, 4, 4]\n"
     ]
    }
   ],
   "source": [
    "#An object quite similar to a list is a NumPy array, but NumPy arrays \n",
    "#hold advantages for astronomical data in many situations because of \n",
    "#the way that the can be added, multiplied, etc.\n",
    "\n",
    "#For example, with lists:\n",
    "lista=[1,2,3,4]\n",
    "listb=[4,4,4,4]\n",
    "print lista+listb"
   ]
  },
  {
   "cell_type": "code",
   "execution_count": 31,
   "metadata": {
    "collapsed": false
   },
   "outputs": [
    {
     "name": "stdout",
     "output_type": "stream",
     "text": [
      "[ 1.  2.  3.  4.]\n",
      "[ 4.  4.  4.  4.]\n",
      "[ 5.  6.  7.  8.]\n"
     ]
    }
   ],
   "source": [
    "#But if we import the NumPy module and cast these lists as Numpy arrays:\n",
    "import numpy as np\n",
    "arraya = np.array(lista,float) #with type specified\n",
    "print arraya\n",
    "arrayb = np.array(listb,float)\n",
    "print arrayb\n",
    "arrayc = arraya+arrayb\n",
    "print arrayc"
   ]
  },
  {
   "cell_type": "code",
   "execution_count": 32,
   "metadata": {
    "collapsed": false
   },
   "outputs": [
    {
     "name": "stdout",
     "output_type": "stream",
     "text": [
      "(4,)\n",
      "26.0\n",
      "6.5\n",
      "[ 2.23606798  2.44948974  2.64575131  2.82842712]\n"
     ]
    }
   ],
   "source": [
    "#There are so many powerful ways to manipulate NumPy arrays that we can \n",
    "#only briefly demonstrate a couple here now, but if you think of something \n",
    "#you'd like to do with an array here that isn't mentioned, Google it!\n",
    "#There is a wealth of useful resources for learning how to do things in \n",
    "#Python on the Internet.\n",
    "print arrayc.shape\n",
    "print arrayc.sum()\n",
    "print arrayc.mean()\n",
    "print np.sqrt(arrayc)"
   ]
  },
  {
   "cell_type": "code",
   "execution_count": 33,
   "metadata": {
    "collapsed": false
   },
   "outputs": [
    {
     "name": "stdout",
     "output_type": "stream",
     "text": [
      "[0 1 2 3 4 5 6 7 8]\n",
      "[ 0.  1.  2.  3.  4.  5.  6.  7.  8.]\n",
      "[ 2.  3.  4.  5.  6.  7.  8.]\n",
      "[ 2.  4.  6.  8.]\n",
      "[ 0.  0.  0.  0.  0.  0.  0.  0.  0.  0.]\n",
      "[ 1.  1.  1.  1.  1.  1.  1.  1.  1.  1.  1.  1.]\n",
      "[ 0.24537693  0.5303915   0.68399752  0.26391818]\n"
     ]
    }
   ],
   "source": [
    "#Arrays can be created from lists, as shown above, or generated directly:\n",
    "\n",
    "#spanning a given range of values\n",
    "print np.arange(9)\n",
    "print np.arange(9,dtype=float)\n",
    "print np.arange(2,9,dtype=float)\n",
    "print np.arange(2,9,2,dtype=float) #by 2s\n",
    "\n",
    "#or not:\n",
    "print np.zeros(10)\n",
    "print np.ones(12)\n",
    "print np.random.rand(4)"
   ]
  },
  {
   "cell_type": "code",
   "execution_count": 34,
   "metadata": {
    "collapsed": false
   },
   "outputs": [
    {
     "name": "stdout",
     "output_type": "stream",
     "text": [
      "[[ 0.83029761  0.20692585  0.79846213  0.20458132  0.77018653]\n",
      " [ 0.75436945  0.24207286  0.14277176  0.53340882  0.65830885]\n",
      " [ 0.96700273  0.72545408  0.95308377  0.3920376   0.79609079]]\n",
      "[[ 0.  0.  0.  0.  0.]\n",
      " [ 0.  0.  0.  0.  0.]\n",
      " [ 0.  0.  0.  0.  0.]]\n",
      "[[1, 2, 3, 4], [5, 6, 7, 8]]\n"
     ]
    }
   ],
   "source": [
    "#And NumPy arrays do not have to be one-dimensional!\n",
    "print np.random.rand(3,5)\n",
    "print np.zeros((3,5))\n",
    "array2d = np.array([[1,2,3,4],[5,6,7,8]])\n",
    "\n",
    "#These are really more like multi-dimensional arrays, rather than nested lists that can be lists of lists\n",
    "print [[1,2,3,4],[5,6,7,8]]"
   ]
  },
  {
   "cell_type": "code",
   "execution_count": 35,
   "metadata": {
    "collapsed": false
   },
   "outputs": [
    {
     "name": "stdout",
     "output_type": "stream",
     "text": [
      "[ 1.  2.  3.  4.]\n",
      "3.0\n",
      "[  1.   2.  19.   4.]\n",
      "[[1 2 3 4]\n",
      " [5 6 7 8]]\n",
      "[1 2 3 4]\n",
      "[3 7]\n",
      "[[ 1  8 27 64]\n",
      " [ 5  6  7  8]]\n"
     ]
    }
   ],
   "source": [
    "#Values at desired locations in a NumPy array can be accessed and changed as follows\n",
    "print arraya\n",
    "print arraya[2]\n",
    "arraya[2]=19\n",
    "print arraya\n",
    "\n",
    "\n",
    "print array2d\n",
    "print array2d[0] #select a row\n",
    "print array2d[:,2] #select a column\n",
    "\n",
    "\n",
    "array2d[0]=array2d[0]**3.\n",
    "print array2d"
   ]
  },
  {
   "cell_type": "markdown",
   "metadata": {},
   "source": [
    "### Reading in files"
   ]
  },
  {
   "cell_type": "code",
   "execution_count": 36,
   "metadata": {
    "collapsed": false
   },
   "outputs": [
    {
     "ename": "IOError",
     "evalue": "[Errno 2] No such file or directory: 'exampledata.txt'",
     "output_type": "error",
     "traceback": [
      "\u001b[0;31m---------------------------------------------------------------------------\u001b[0m",
      "\u001b[0;31mIOError\u001b[0m                                   Traceback (most recent call last)",
      "\u001b[0;32m<ipython-input-36-13431198d7d1>\u001b[0m in \u001b[0;36m<module>\u001b[0;34m()\u001b[0m\n\u001b[1;32m      1\u001b[0m \u001b[0;31m#Importantly for your project purposes, the NumPy module also has a feature that\u001b[0m\u001b[0;34m\u001b[0m\u001b[0;34m\u001b[0m\u001b[0m\n\u001b[1;32m      2\u001b[0m \u001b[0;31m#lets you trivially import data from a file into a NumPy array\u001b[0m\u001b[0;34m\u001b[0m\u001b[0;34m\u001b[0m\u001b[0m\n\u001b[0;32m----> 3\u001b[0;31m \u001b[0mexampledata\u001b[0m \u001b[0;34m=\u001b[0m \u001b[0mnp\u001b[0m\u001b[0;34m.\u001b[0m\u001b[0mloadtxt\u001b[0m\u001b[0;34m(\u001b[0m\u001b[0;34m'exampledata.txt'\u001b[0m\u001b[0;34m,\u001b[0m\u001b[0mskiprows\u001b[0m\u001b[0;34m=\u001b[0m\u001b[0;36m1\u001b[0m\u001b[0;34m)\u001b[0m \u001b[0;31m#filename is a string\u001b[0m\u001b[0;34m\u001b[0m\u001b[0m\n\u001b[0m\u001b[1;32m      4\u001b[0m \u001b[0;32mprint\u001b[0m \u001b[0mexampledata\u001b[0m\u001b[0;34m\u001b[0m\u001b[0m\n",
      "\u001b[0;32m/Users/keatonb/anaconda/lib/python2.7/site-packages/numpy/lib/npyio.pyc\u001b[0m in \u001b[0;36mloadtxt\u001b[0;34m(fname, dtype, comments, delimiter, converters, skiprows, usecols, unpack, ndmin)\u001b[0m\n\u001b[1;32m    799\u001b[0m                 \u001b[0mfh\u001b[0m \u001b[0;34m=\u001b[0m \u001b[0miter\u001b[0m\u001b[0;34m(\u001b[0m\u001b[0mbz2\u001b[0m\u001b[0;34m.\u001b[0m\u001b[0mBZ2File\u001b[0m\u001b[0;34m(\u001b[0m\u001b[0mfname\u001b[0m\u001b[0;34m)\u001b[0m\u001b[0;34m)\u001b[0m\u001b[0;34m\u001b[0m\u001b[0m\n\u001b[1;32m    800\u001b[0m             \u001b[0;32melif\u001b[0m \u001b[0msys\u001b[0m\u001b[0;34m.\u001b[0m\u001b[0mversion_info\u001b[0m\u001b[0;34m[\u001b[0m\u001b[0;36m0\u001b[0m\u001b[0;34m]\u001b[0m \u001b[0;34m==\u001b[0m \u001b[0;36m2\u001b[0m\u001b[0;34m:\u001b[0m\u001b[0;34m\u001b[0m\u001b[0m\n\u001b[0;32m--> 801\u001b[0;31m                 \u001b[0mfh\u001b[0m \u001b[0;34m=\u001b[0m \u001b[0miter\u001b[0m\u001b[0;34m(\u001b[0m\u001b[0mopen\u001b[0m\u001b[0;34m(\u001b[0m\u001b[0mfname\u001b[0m\u001b[0;34m,\u001b[0m \u001b[0;34m'U'\u001b[0m\u001b[0;34m)\u001b[0m\u001b[0;34m)\u001b[0m\u001b[0;34m\u001b[0m\u001b[0m\n\u001b[0m\u001b[1;32m    802\u001b[0m             \u001b[0;32melse\u001b[0m\u001b[0;34m:\u001b[0m\u001b[0;34m\u001b[0m\u001b[0m\n\u001b[1;32m    803\u001b[0m                 \u001b[0mfh\u001b[0m \u001b[0;34m=\u001b[0m \u001b[0miter\u001b[0m\u001b[0;34m(\u001b[0m\u001b[0mopen\u001b[0m\u001b[0;34m(\u001b[0m\u001b[0mfname\u001b[0m\u001b[0;34m)\u001b[0m\u001b[0;34m)\u001b[0m\u001b[0;34m\u001b[0m\u001b[0m\n",
      "\u001b[0;31mIOError\u001b[0m: [Errno 2] No such file or directory: 'exampledata.txt'"
     ]
    }
   ],
   "source": [
    "#Importantly for your project purposes, the NumPy module also has a feature that \n",
    "#lets you trivially import data from a file into a NumPy array\n",
    "exampledata = np.loadtxt('exampledata.txt',skiprows=1) #filename is a string\n",
    "print exampledata"
   ]
  },
  {
   "cell_type": "markdown",
   "metadata": {},
   "source": [
    "### Simple plotting"
   ]
  },
  {
   "cell_type": "code",
   "execution_count": 37,
   "metadata": {
    "collapsed": false
   },
   "outputs": [
    {
     "data": {
      "image/png": "[encoded data removed]",
      "text/plain": [
       "<matplotlib.figure.Figure at 0x10618e2d0>"
      ]
     },
     "metadata": {},
     "output_type": "display_data"
    }
   ],
   "source": [
    "#It is essential for the scientist to be able to communicate their data \n",
    "#and results effectively to their audience, and Python has multiple options \n",
    "#for plotting modules, with matplotlib being the most widely used today.\n",
    "import matplotlib.pyplot as plt\n",
    "#the next line tells IPython to disply the plots in the Notebook!\n",
    "%matplotlib inline\n",
    "\n",
    "x = np.arange(50)\n",
    "y = np.random.rand(50)\n",
    "\n",
    "plt.figure()\n",
    "plt.plot(x,y)\n",
    "plt.xlabel('x axis')\n",
    "plt.ylabel('random values')\n",
    "plt.title('title')\n",
    "plt.show()"
   ]
  },
  {
   "cell_type": "code",
   "execution_count": 38,
   "metadata": {
    "collapsed": false
   },
   "outputs": [
    {
     "data": {
      "image/png": "[encoded data removed]",
      "text/plain": [
       "<matplotlib.figure.Figure at 0x10510a650>"
      ]
     },
     "metadata": {},
     "output_type": "display_data"
    }
   ],
   "source": [
    "#These plots are highly customizable\n",
    "plt.figure()\n",
    "plt.plot(x,y,'r+') #r for red; + for + symbol; see help (shift+tab) for more options\n",
    "plt.xlabel('x axis')\n",
    "plt.ylabel('random values')\n",
    "plt.title('title')\n",
    "plt.show()"
   ]
  },
  {
   "cell_type": "code",
   "execution_count": 39,
   "metadata": {
    "collapsed": false
   },
   "outputs": [
    {
     "data": {
      "image/png": "[encoded data removed]",
      "text/plain": [
       "<matplotlib.figure.Figure at 0x1050cbb50>"
      ]
     },
     "metadata": {},
     "output_type": "display_data"
    }
   ],
   "source": [
    "#...and can even get quite fancy\n",
    "fig = plt.figure()\n",
    "\n",
    "axes1 = fig.add_axes([0.1, 0.1, 0.8, 0.8]) # main axes\n",
    "axes2 = fig.add_axes([0.2, 0.3, 0.3, 0.5]) # inset axes\n",
    "\n",
    "# main figure\n",
    "axes1.plot(x, y, 'ro')\n",
    "axes1.set_xlabel('x')\n",
    "axes1.set_ylabel('y')\n",
    "axes1.set_title('these plots are nonsense');\n",
    "\n",
    "# insert\n",
    "axes2.plot(y, x, 'g--')\n",
    "axes2.set_xlabel('y')\n",
    "axes2.set_ylabel('x')\n",
    "axes2.set_title('this plot is in the other!');\n",
    "\n",
    "plt.show()"
   ]
  },
  {
   "cell_type": "code",
   "execution_count": 40,
   "metadata": {
    "collapsed": false
   },
   "outputs": [
    {
     "data": {
      "image/png": "[encoded data removed]",
      "text/plain": [
       "<matplotlib.figure.Figure at 0x10510a410>"
      ]
     },
     "metadata": {},
     "output_type": "display_data"
    }
   ],
   "source": [
    "#Finally, it's easy to save a copy of the plot.  \n",
    "#You just have to do it before you call the show() command!\n",
    "fig = plt.figure()\n",
    "\n",
    "axes1 = fig.add_axes([0.1, 0.1, 0.8, 0.8]) # main axes\n",
    "axes2 = fig.add_axes([0.2, 0.3, 0.3, 0.5]) # inset axes\n",
    "\n",
    "# main figure\n",
    "axes1.plot(x, y, 'ro')\n",
    "axes1.set_xlabel('x')\n",
    "axes1.set_ylabel('y')\n",
    "axes1.set_title('these plots are nonsense');\n",
    "\n",
    "# insert\n",
    "axes2.plot(y, x, 'g--')\n",
    "axes2.set_xlabel('y')\n",
    "axes2.set_ylabel('x')\n",
    "axes2.set_title('this plot is in the other!');\n",
    "\n",
    "plt.savefig('randomplot.pdf')\n",
    "plt.show()"
   ]
  },
  {
   "cell_type": "markdown",
   "metadata": {},
   "source": [
    "### Good work!"
   ]
  },
  {
   "cell_type": "markdown",
   "metadata": {},
   "source": [
    "You are now familiar with a very most basic aspects of the Python programming language.  You can build on this foundation to make your computer do virtually anything a computer can.\n",
    "\n",
    "Practice some of the above commands in an IPython Notebook of your own.  Explore possible commands with auto-complete (Tab) and by reading documentation (Shift+Tab).  Want to do something with Python but not sure how?  Google it!  There are tons of useful references out there.  That's how everybody learns Python.\n",
    "\n",
    "Next week we will take a look at some more advanced features, including conditional statements, for loops, and functions.  You will see then how Python uses spaces at the beginning of certain lines to keep track of the relation between different lines of code.  For now we've limited ourselves to pretty simple commands, so keep your code left-justified for the time being and you'll do fine."
   ]
  }
 ],
 "metadata": {
  "kernelspec": {
   "display_name": "Python 2",
   "language": "python",
   "name": "python2"
  },
  "language_info": {
   "codemirror_mode": {
    "name": "ipython",
    "version": 2
   },
   "file_extension": ".py",
   "mimetype": "text/x-python",
   "name": "python",
   "nbconvert_exporter": "python",
   "pygments_lexer": "ipython2",
   "version": "2.7.11"
  }
 },
 "nbformat": 4,
 "nbformat_minor": 0
}
