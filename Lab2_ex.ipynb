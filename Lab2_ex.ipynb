{
 "cells": [
  {
   "cell_type": "code",
   "execution_count": null,
   "metadata": {},
   "outputs": [],
   "source": [
    "# Import the following modules on the lines below:\n",
    "#   numpy, matplotlib.pyplot, and glob"
   ]
  },
  {
   "cell_type": "code",
   "execution_count": null,
   "metadata": {},
   "outputs": [],
   "source": [
    "# Use glob.glob() to read in the names of all the '*.csv' files\n"
   ]
  },
  {
   "cell_type": "code",
   "execution_count": null,
   "metadata": {},
   "outputs": [],
   "source": [
    "# Write code to read in the data in the first file. You can use the \n",
    "# \"loadtxt\" command with the appropriate values set for \"skiprows\" and \"delimiter\".\n",
    "# Store the values in the columns labelled \"Mag\" and \"Magerr\" in variable names\n",
    "# of your own choosing."
   ]
  },
  {
   "cell_type": "code",
   "execution_count": null,
   "metadata": {},
   "outputs": [],
   "source": [
    "# Write a function that takes as arguments the list \"Mag\" and the list \"Magerr\" from \n",
    "# the previous cell. Calculate the standard deviation of \"Mag\", and divide it by the\n",
    "# average of \"Magerr\", and return this value. Test this on the data from the file in \n",
    "# the cell above to make sure it doesn't cause an error. "
   ]
  },
  {
   "cell_type": "code",
   "execution_count": null,
   "metadata": {
    "scrolled": true
   },
   "outputs": [],
   "source": [
    "# To help simplify this lab a little, we provide the function below. If you call it\n",
    "# with one of the names of the *.csv files, it will pull out the part of the name\n",
    "# that gives the Teff of the star (as well as its log g value) and return them.\n",
    "# \n",
    "def get_vals(fname):\n",
    "    Teff = fname[4:8]\n",
    "    logg = fname[12:17]\n",
    "    Teff = float(Teff)\n",
    "    logg = float(logg)\n",
    "    return Teff,logg\n",
    "    \n",
    "# Example:\n",
    "f = 'Teff8200logg4.820.csv'\n",
    "Teff, logg = get_vals(f)\n",
    "print(Teff,logg)"
   ]
  },
  {
   "cell_type": "code",
   "execution_count": null,
   "metadata": {},
   "outputs": [],
   "source": [
    "# Now, write a for loop that goes through the full list of files. Build up in stages what\n",
    "# the loop does. First, have it print out the name of each file. Then add in the above\n",
    "# \"get_vals()\" command to calculate the temperature and gravity contained in each file name. \n",
    "# Now, go back and add in the loadtxt command, so that you read in the list of magnitudes and \n",
    "# the errors on the magnitudes for each star. Finally, call the function that you wrote in \n",
    "# step 8 above to calculate the extra variability that each object possesses.\n",
    "\n",
    "# We haven't saved in of the values yet, although we have calculated them. Set up one empty\n",
    "# list for the temperature values and one for the variability values. At the end of each loop,\n",
    "# \"append\" these the temperature and variability values to their respective lists."
   ]
  },
  {
   "cell_type": "code",
   "execution_count": null,
   "metadata": {},
   "outputs": [],
   "source": [
    "# Make a scatter plot (\"plt.scatter()\") of this: Plot variability (y-axis) versus temperature (x-axis). \n",
    "# Once you have it looking the way you want, save a copy to disk with the \"plt.savefig\" command. "
   ]
  },
  {
   "cell_type": "code",
   "execution_count": null,
   "metadata": {},
   "outputs": [],
   "source": [
    "# Also, save a PDF copy of your Jupyter Notebook to disk, as you did with the \"savefig\" command. \n",
    "# Submit both the PDF of the figure and of the notebook on Canvas..."
   ]
  }
 ],
 "metadata": {
  "kernelspec": {
   "display_name": "Python 3",
   "language": "python",
   "name": "python3"
  },
  "language_info": {
   "codemirror_mode": {
    "name": "ipython",
    "version": 3
   },
   "file_extension": ".py",
   "mimetype": "text/x-python",
   "name": "python",
   "nbconvert_exporter": "python",
   "pygments_lexer": "ipython3",
   "version": "3.8.5"
  }
 },
 "nbformat": 4,
 "nbformat_minor": 2
}
